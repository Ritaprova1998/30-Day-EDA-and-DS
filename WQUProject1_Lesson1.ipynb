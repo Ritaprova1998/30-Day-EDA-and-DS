{
  "nbformat": 4,
  "nbformat_minor": 0,
  "metadata": {
    "colab": {
      "provenance": []
    },
    "kernelspec": {
      "name": "python3",
      "display_name": "Python 3"
    },
    "language_info": {
      "name": "python"
    }
  },
  "cells": [
    {
      "cell_type": "markdown",
      "source": [
        "Working with Tabular Data"
      ],
      "metadata": {
        "id": "w_9CeSXB1TUv"
      }
    },
    {
      "cell_type": "code",
      "source": [
        "#working with Lists:\n",
        "#declare a variable house_0_list\n",
        "house_0_list = [115910.26, 128, 4]\n",
        "\n",
        "#we can use the function type to understand the object type of the variable\n",
        "type(house_0_list)"
      ],
      "metadata": {
        "colab": {
          "base_uri": "https://localhost:8080/"
        },
        "id": "Lsybb9at1eAX",
        "outputId": "f55b786f-6a83-4fbf-e263-ac44367fbc7a"
      },
      "execution_count": null,
      "outputs": [
        {
          "output_type": "execute_result",
          "data": {
            "text/plain": [
              "list"
            ]
          },
          "metadata": {},
          "execution_count": 1
        }
      ]
    },
    {
      "cell_type": "code",
      "source": [
        "# We can use the function len to understand the length of a variable\n",
        "print(\"house_0_list has\",len(house_0_list),\"charaters\")"
      ],
      "metadata": {
        "colab": {
          "base_uri": "https://localhost:8080/"
        },
        "id": "PuSH0k7L17kQ",
        "outputId": "d43f259d-cb1a-4836-d3a7-f03370064a12"
      },
      "execution_count": null,
      "outputs": [
        {
          "output_type": "stream",
          "name": "stdout",
          "text": [
            "house_0_list has 3 charaters\n"
          ]
        }
      ]
    },
    {
      "cell_type": "code",
      "source": [
        "#getting output of the list\n",
        "house_0_list"
      ],
      "metadata": {
        "colab": {
          "base_uri": "https://localhost:8080/"
        },
        "id": "B7MLiZlJ2Pm5",
        "outputId": "20df9839-df36-4174-ceea-7d03b1a03489"
      },
      "execution_count": null,
      "outputs": [
        {
          "output_type": "execute_result",
          "data": {
            "text/plain": [
              "[115910.26, 128, 4]"
            ]
          },
          "metadata": {},
          "execution_count": 3
        }
      ]
    },
    {
      "cell_type": "code",
      "source": [
        "#price per sqmetere of house_0_list\n",
        "house_0_price_m2 =house_0_list[0]/house_0_list[1]\n",
        "print(\"the price/metersq for house_0_list is\",house_0_price_m2)"
      ],
      "metadata": {
        "colab": {
          "base_uri": "https://localhost:8080/"
        },
        "id": "4rB3m6E52Y_H",
        "outputId": "11ad0893-7cdb-4310-f4e3-90f6171e025e"
      },
      "execution_count": null,
      "outputs": [
        {
          "output_type": "stream",
          "name": "stdout",
          "text": [
            "the price/metersq for house_0_list is 905.54890625\n"
          ]
        }
      ]
    },
    {
      "cell_type": "code",
      "source": [
        "type(house_0_price_m2)"
      ],
      "metadata": {
        "colab": {
          "base_uri": "https://localhost:8080/"
        },
        "id": "wnvvYBLW3BHx",
        "outputId": "729ec19f-ecf5-4b31-cde4-a33c18752954"
      },
      "execution_count": null,
      "outputs": [
        {
          "output_type": "execute_result",
          "data": {
            "text/plain": [
              "float"
            ]
          },
          "metadata": {},
          "execution_count": 5
        }
      ]
    },
    {
      "cell_type": "code",
      "source": [
        "house_0_price_m3 = ...\n",
        "type(house_0_price_m3)"
      ],
      "metadata": {
        "colab": {
          "base_uri": "https://localhost:8080/"
        },
        "id": "cMmKkfr43PSX",
        "outputId": "389a4583-465e-45a1-f96a-84dcee5f2d2b"
      },
      "execution_count": null,
      "outputs": [
        {
          "output_type": "execute_result",
          "data": {
            "text/plain": [
              "ellipsis"
            ]
          },
          "metadata": {},
          "execution_count": 6
        }
      ]
    },
    {
      "cell_type": "code",
      "source": [
        "#Appending to a list\n",
        "house_0_list.append(house_0_price_m2)\n",
        "print(\"appeneded list = \",house_0_list)"
      ],
      "metadata": {
        "colab": {
          "base_uri": "https://localhost:8080/"
        },
        "id": "BFhj4B8V3vgR",
        "outputId": "1f95a55e-5007-48ee-d5ba-5f0871ef547f"
      },
      "execution_count": null,
      "outputs": [
        {
          "output_type": "stream",
          "name": "stdout",
          "text": [
            "appeneded list =  [115910.26, 128, 4, 905.54890625]\n"
          ]
        }
      ]
    },
    {
      "cell_type": "code",
      "source": [
        "#using nested lists to work with multiple rows of orgamized data\n",
        "houses_nested_list = [\n",
        "    [115910.26, 128.0, 4.0],\n",
        "    [48718.17, 210.0, 3.0],\n",
        "    [28977.56, 58.0, 2.0],\n",
        "    [36932.27, 79.0, 3.0],\n",
        "    [83903.51, 111.0, 3.0],\n",
        "]"
      ],
      "metadata": {
        "id": "mxdqCwQ73-Fv"
      },
      "execution_count": null,
      "outputs": []
    },
    {
      "cell_type": "code",
      "source": [
        "print(\"houses_nested_list's type\",type(houses_nested_list))\n",
        "print(\"houses_nested_list's length\",len(houses_nested_list))"
      ],
      "metadata": {
        "colab": {
          "base_uri": "https://localhost:8080/"
        },
        "id": "efp2UkWy42xn",
        "outputId": "57cc03b8-d3f4-4e90-e8fc-140882aab585"
      },
      "execution_count": null,
      "outputs": [
        {
          "output_type": "stream",
          "name": "stdout",
          "text": [
            "houses_nested_list's type <class 'list'>\n",
            "houses_nested_list's length 5\n"
          ]
        }
      ]
    },
    {
      "cell_type": "code",
      "source": [
        "#we can use a for loop to automate the price/m2 calculation for all the sub lists and append it to each of the lists\n",
        "for house in houses_nested_list:\n",
        "  price_m2 = house[0]/house[1]\n",
        "  house.append(price_m2)\n",
        "\n",
        "print(houses_nested_list)"
      ],
      "metadata": {
        "colab": {
          "base_uri": "https://localhost:8080/"
        },
        "id": "PL7ts-Ct5Ze4",
        "outputId": "7e888b49-ce78-4381-9086-be4ccbf31562"
      },
      "execution_count": null,
      "outputs": [
        {
          "output_type": "stream",
          "name": "stdout",
          "text": [
            "[[115910.26, 128.0, 4.0, 905.54890625], [48718.17, 210.0, 3.0, 231.9912857142857], [28977.56, 58.0, 2.0, 499.61310344827587], [36932.27, 79.0, 3.0, 467.4970886075949], [83903.51, 111.0, 3.0, 755.8874774774774]]\n"
          ]
        }
      ]
    },
    {
      "cell_type": "markdown",
      "source": [
        "Using dictionary in place of lists"
      ],
      "metadata": {
        "id": "73vOSXj-7PDQ"
      }
    },
    {
      "cell_type": "code",
      "source": [
        "house_0_dict ={\n",
        "    \"price_aprox_usd\": 115910.26,\n",
        "    \"surface_covered_in_m2\": 128.0,\n",
        "    \"rooms\": 4.0\n",
        "}\n",
        "type(house_0_dict)\n",
        "house_0_dict"
      ],
      "metadata": {
        "colab": {
          "base_uri": "https://localhost:8080/"
        },
        "id": "4rIgyhnP7SVO",
        "outputId": "956dd41f-4c26-4039-b362-7fe3f5d553a9"
      },
      "execution_count": null,
      "outputs": [
        {
          "output_type": "execute_result",
          "data": {
            "text/plain": [
              "{'price_aprox_usd': 115910.26, 'surface_covered_in_m2': 128.0, 'rooms': 4.0}"
            ]
          },
          "metadata": {},
          "execution_count": 11
        }
      ]
    },
    {
      "cell_type": "code",
      "source": [
        "a=house_0_dict[\"price_aprox_usd\"]\n",
        "b=house_0_dict[\"surface_covered_in_m2\"]\n",
        "price_m2_dict = a/b\n",
        "price_m2_dict\n",
        "house_0_dict[\"price_m2\"] = price_m2_dict\n",
        "house_0_dict"
      ],
      "metadata": {
        "colab": {
          "base_uri": "https://localhost:8080/"
        },
        "id": "bF4sbztm7keX",
        "outputId": "37daeaa6-a3ba-4292-dfa3-eda33c2c4c1a"
      },
      "execution_count": null,
      "outputs": [
        {
          "output_type": "execute_result",
          "data": {
            "text/plain": [
              "{'price_aprox_usd': 115910.26,\n",
              " 'surface_covered_in_m2': 128.0,\n",
              " 'rooms': 4.0,\n",
              " 'price_m2': 905.54890625}"
            ]
          },
          "metadata": {},
          "execution_count": 12
        }
      ]
    },
    {
      "cell_type": "code",
      "source": [
        "# Declare variable `houses_rowwise`\n",
        "# In order to organise the dictsionaries we again use a list (a list of dictionaries also called a record)\n",
        "houses_rowwise = [\n",
        "    {\n",
        "        \"price_approx_usd\": 115910.26,\n",
        "        \"surface_covered_in_m2\": 128,\n",
        "        \"rooms\": 4,\n",
        "    },\n",
        "    {\n",
        "        \"price_approx_usd\": 48718.17,\n",
        "        \"surface_covered_in_m2\": 210,\n",
        "        \"rooms\": 3,\n",
        "    },\n",
        "    {\n",
        "        \"price_approx_usd\": 28977.56,\n",
        "        \"surface_covered_in_m2\": 58,\n",
        "        \"rooms\": 2,\n",
        "    },\n",
        "    {\n",
        "        \"price_approx_usd\": 36932.27,\n",
        "        \"surface_covered_in_m2\": 79,\n",
        "        \"rooms\": 3,\n",
        "    },\n",
        "    {\n",
        "        \"price_approx_usd\": 83903.51,\n",
        "        \"surface_covered_in_m2\": 111,\n",
        "        \"rooms\": 3,\n",
        "    },\n",
        "]\n",
        "\n",
        "# Print `houses_rowwise` object type\n",
        "print(\"houses_rowwise type:\", type(houses_rowwise))\n",
        "\n",
        "# Print `houses_rowwise` length\n",
        "print(\"houses_rowwise length:\", len(houses_rowwise))\n",
        "\n",
        "# Get output of `houses_rowwise`\n",
        "houses_rowwise"
      ],
      "metadata": {
        "colab": {
          "base_uri": "https://localhost:8080/"
        },
        "id": "69pqLuJk70KP",
        "outputId": "8b5eaf9b-ec18-4a27-bca6-ab53d067ebd2"
      },
      "execution_count": null,
      "outputs": [
        {
          "output_type": "stream",
          "name": "stdout",
          "text": [
            "houses_rowwise type: <class 'list'>\n",
            "houses_rowwise length: 5\n"
          ]
        },
        {
          "output_type": "execute_result",
          "data": {
            "text/plain": [
              "[{'price_approx_usd': 115910.26, 'surface_covered_in_m2': 128, 'rooms': 4},\n",
              " {'price_approx_usd': 48718.17, 'surface_covered_in_m2': 210, 'rooms': 3},\n",
              " {'price_approx_usd': 28977.56, 'surface_covered_in_m2': 58, 'rooms': 2},\n",
              " {'price_approx_usd': 36932.27, 'surface_covered_in_m2': 79, 'rooms': 3},\n",
              " {'price_approx_usd': 83903.51, 'surface_covered_in_m2': 111, 'rooms': 3}]"
            ]
          },
          "metadata": {},
          "execution_count": 13
        }
      ]
    },
    {
      "cell_type": "code",
      "source": [
        "for record in houses_rowwise:\n",
        "  record[\"price_per_m2\"] = record[\"price_approx_usd\"]/record[\"surface_covered_in_m2\"]\n",
        "\n",
        "houses_rowwise\n"
      ],
      "metadata": {
        "colab": {
          "base_uri": "https://localhost:8080/"
        },
        "id": "Df_fJjD99DeP",
        "outputId": "6c549026-4759-4d33-d584-f660ee48d7c3"
      },
      "execution_count": null,
      "outputs": [
        {
          "output_type": "execute_result",
          "data": {
            "text/plain": [
              "[{'price_approx_usd': 115910.26,\n",
              "  'surface_covered_in_m2': 128,\n",
              "  'rooms': 4,\n",
              "  'price_per_m2': 905.54890625},\n",
              " {'price_approx_usd': 48718.17,\n",
              "  'surface_covered_in_m2': 210,\n",
              "  'rooms': 3,\n",
              "  'price_per_m2': 231.9912857142857},\n",
              " {'price_approx_usd': 28977.56,\n",
              "  'surface_covered_in_m2': 58,\n",
              "  'rooms': 2,\n",
              "  'price_per_m2': 499.61310344827587},\n",
              " {'price_approx_usd': 36932.27,\n",
              "  'surface_covered_in_m2': 79,\n",
              "  'rooms': 3,\n",
              "  'price_per_m2': 467.4970886075949},\n",
              " {'price_approx_usd': 83903.51,\n",
              "  'surface_covered_in_m2': 111,\n",
              "  'rooms': 3,\n",
              "  'price_per_m2': 755.8874774774774}]"
            ]
          },
          "metadata": {},
          "execution_count": 14
        }
      ]
    },
    {
      "cell_type": "code",
      "source": [
        "#find out the mean of the prices\n",
        "house_prices=[]\n",
        "for house in houses_rowwise:\n",
        "  house_prices.append(house[\"price_approx_usd\"])\n",
        "\n",
        "house_prices\n",
        "avg_price = sum(house_prices)/len(house_prices)\n",
        "print(\"Mean price:\", avg_price)"
      ],
      "metadata": {
        "id": "xcSPZU8o-8h_",
        "colab": {
          "base_uri": "https://localhost:8080/"
        },
        "outputId": "20c8761f-a152-4ae5-9a04-3b51c801b25e"
      },
      "execution_count": null,
      "outputs": [
        {
          "output_type": "stream",
          "name": "stdout",
          "text": [
            "Mean price: 62888.35399999999\n"
          ]
        }
      ]
    },
    {
      "cell_type": "code",
      "source": [
        "# Declare variable `houses_columnwise`\n",
        "houses_columnwise = {\n",
        "    \"price_approx_usd\": [115910.26, 48718.17, 28977.56, 36932.27, 83903.51],\n",
        "    \"surface_covered_in_m2\": [128.0, 210.0, 58.0, 79.0, 111.0],\n",
        "    \"rooms\": [4.0, 3.0, 2.0, 3.0, 3.0],\n",
        "}\n",
        "\n",
        "# Print `houses_columnwise` object type\n",
        "print(\"houses_columnwise type:\", type(houses_columnwise))\n",
        "\n",
        "# Get output of `houses_columnwise`\n",
        "houses_columnwise"
      ],
      "metadata": {
        "colab": {
          "base_uri": "https://localhost:8080/"
        },
        "id": "YmiK5CfxJDT4",
        "outputId": "311371ab-f05c-44df-eb1a-0a0b5f49a73a"
      },
      "execution_count": null,
      "outputs": [
        {
          "output_type": "stream",
          "name": "stdout",
          "text": [
            "houses_columnwise type: <class 'dict'>\n"
          ]
        },
        {
          "output_type": "execute_result",
          "data": {
            "text/plain": [
              "{'price_approx_usd': [115910.26, 48718.17, 28977.56, 36932.27, 83903.51],\n",
              " 'surface_covered_in_m2': [128.0, 210.0, 58.0, 79.0, 111.0],\n",
              " 'rooms': [4.0, 3.0, 2.0, 3.0, 3.0]}"
            ]
          },
          "metadata": {},
          "execution_count": 18
        }
      ]
    },
    {
      "cell_type": "code",
      "source": [
        "#finding out the mean price columnwise\n",
        "mean_price = sum(houses_columnwise[\"price_approx_usd\"])/len(houses_columnwise[\"price_approx_usd\"])\n",
        "mean_price"
      ],
      "metadata": {
        "colab": {
          "base_uri": "https://localhost:8080/"
        },
        "id": "iWWj7s-BKlxJ",
        "outputId": "a5c4d71e-9e9a-423e-e765-d044a01de8cd"
      },
      "execution_count": null,
      "outputs": [
        {
          "output_type": "execute_result",
          "data": {
            "text/plain": [
              "62888.35399999999"
            ]
          },
          "metadata": {},
          "execution_count": 21
        }
      ]
    },
    {
      "cell_type": "code",
      "source": [
        "#rowwise calculation\n",
        "price = houses_columnwise[\"price_approx_usd\"]\n",
        "area = houses_columnwise[\"surface_covered_in_m2\"]\n",
        "iterator = (zip(price,area))\n",
        "price_per_m2 = []\n",
        "for p,a in zip(price,area):\n",
        "  price_m2 = p/a\n",
        "  price_per_m2.append(price_m2)\n",
        "\n",
        "houses_columnwise[\"price_per_m2\"] = price_per_m2\n",
        "houses_columnwise"
      ],
      "metadata": {
        "colab": {
          "base_uri": "https://localhost:8080/"
        },
        "id": "EEOSS3-4LDBp",
        "outputId": "00cab8ea-2400-4248-83f7-3f8e560747bb"
      },
      "execution_count": null,
      "outputs": [
        {
          "output_type": "execute_result",
          "data": {
            "text/plain": [
              "{'price_approx_usd': [115910.26, 48718.17, 28977.56, 36932.27, 83903.51],\n",
              " 'surface_covered_in_m2': [128.0, 210.0, 58.0, 79.0, 111.0],\n",
              " 'rooms': [4.0, 3.0, 2.0, 3.0, 3.0],\n",
              " 'price_per_m2': [905.54890625,\n",
              "  231.9912857142857,\n",
              "  499.61310344827587,\n",
              "  467.4970886075949,\n",
              "  755.8874774774774]}"
            ]
          },
          "metadata": {},
          "execution_count": 29
        }
      ]
    },
    {
      "cell_type": "code",
      "source": [],
      "metadata": {
        "id": "nYvlTQeBL3xg"
      },
      "execution_count": null,
      "outputs": []
    }
  ]
}