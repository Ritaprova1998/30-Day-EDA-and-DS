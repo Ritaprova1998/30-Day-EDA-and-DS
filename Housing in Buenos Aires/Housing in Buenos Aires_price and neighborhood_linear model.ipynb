{
  "nbformat": 4,
  "nbformat_minor": 0,
  "metadata": {
    "colab": {
      "provenance": []
    },
    "kernelspec": {
      "name": "python3",
      "display_name": "Python 3"
    },
    "language_info": {
      "name": "python"
    }
  },
  "cells": [
    {
      "cell_type": "code",
      "execution_count": null,
      "metadata": {
        "id": "XIlZ9kuycaYl"
      },
      "outputs": [],
      "source": [
        "import numpy as np\n",
        "import pandas as pd\n",
        "import matplotlib.pyplot as plt\n",
        "import plotly.express as px\n",
        "\n",
        "from sklearn.impute import SimpleImputer\n",
        "from sklearn.linear_model import LinearRegression, Ridge\n",
        "from sklearn.metrics import mean_absolute_error\n",
        "from sklearn.pipeline import make_pipeline\n",
        "from sklearn.utils.validation import check_is_fitted\n",
        "\n",
        "#importing encoders\n",
        "import glob as glob\n",
        "from sklearn.preprocessing import OneHotEncoder"
      ]
    },
    {
      "cell_type": "code",
      "source": [
        "#Preparing the data\n",
        "#exploring the data\n",
        "#Spliting the data"
      ],
      "metadata": {
        "id": "cXq2Ts6JdqFJ"
      },
      "execution_count": null,
      "outputs": []
    },
    {
      "cell_type": "code",
      "source": [
        "#defining the function\n",
        "def wrangle(filename):\n",
        "  df = pd.read_csv(filename)\n",
        "\n",
        "  #subsetting with Apartment, state and price\n",
        "  mask_apt = df[\"property_type\"] == \"apartment\"\n",
        "  mask_state = df[\"place_with_parent_names\"].str.contains(\"Capital Federal\")\n",
        "  mask_price = df[\"price_aprox_usd\"] < 400000.0\n",
        "\n",
        "  df = df[mask_apt & mask_state & mask_price]\n",
        "\n",
        "  #removing outliers\n",
        "  low,high = df[\"surface_covered_in_m2\"].quantile([0.1,0.9])\n",
        "  mask_area = df[\"surface_covered_in_m2\"].between(low,high)\n",
        "  df = df[mask_area]\n",
        "\n",
        "  #splitting the lat-lon column\n",
        "  df[[\"lat\",\"lon\"]] = df[\"lat-lon\"].str.split(\",\", expand = True).astype(float)\n",
        "  df = df.drop([\"lat-lon\"],axis=1)\n",
        "\n",
        "  #extract neighbourhood\n",
        "  df[\"neighborhood\"] = df[\"place_with_parent_names\"].str.split(\"|\",expand = True)[3]\n",
        "  df = df.drop([\"place_with_parent_names\"],axis=1)\n",
        "\n",
        "  return df"
      ],
      "metadata": {
        "id": "f05ZXeEihYYq"
      },
      "execution_count": null,
      "outputs": []
    },
    {
      "cell_type": "code",
      "source": [
        "df = wrangle(\"/content/drive/MyDrive/Data for WQU/Project 2/buenos-aires-real-estate-1.csv\")\n",
        "df.info()"
      ],
      "metadata": {
        "colab": {
          "base_uri": "https://localhost:8080/"
        },
        "id": "ZKjYLptxikNT",
        "outputId": "ddeba594-949a-4627-9141-e88b3151ba31"
      },
      "execution_count": null,
      "outputs": [
        {
          "output_type": "stream",
          "name": "stdout",
          "text": [
            "<class 'pandas.core.frame.DataFrame'>\n",
            "Index: 1343 entries, 4 to 8604\n",
            "Data columns (total 17 columns):\n",
            " #   Column                      Non-Null Count  Dtype  \n",
            "---  ------                      --------------  -----  \n",
            " 0   operation                   1343 non-null   object \n",
            " 1   property_type               1343 non-null   object \n",
            " 2   price                       1343 non-null   float64\n",
            " 3   currency                    1343 non-null   object \n",
            " 4   price_aprox_local_currency  1343 non-null   float64\n",
            " 5   price_aprox_usd             1343 non-null   float64\n",
            " 6   surface_total_in_m2         965 non-null    float64\n",
            " 7   surface_covered_in_m2       1343 non-null   float64\n",
            " 8   price_usd_per_m2            927 non-null    float64\n",
            " 9   price_per_m2                1343 non-null   float64\n",
            " 10  floor                       379 non-null    float64\n",
            " 11  rooms                       1078 non-null   float64\n",
            " 12  expenses                    349 non-null    object \n",
            " 13  properati_url               1343 non-null   object \n",
            " 14  lat                         1300 non-null   float64\n",
            " 15  lon                         1300 non-null   float64\n",
            " 16  neighborhood                1343 non-null   object \n",
            "dtypes: float64(11), object(6)\n",
            "memory usage: 188.9+ KB\n"
          ]
        }
      ]
    },
    {
      "cell_type": "code",
      "source": [
        "files = glob.glob(\"/content/drive/MyDrive/Data for WQU/Project 2/buenos-aires-real-estate-*.csv\")\n",
        "files"
      ],
      "metadata": {
        "colab": {
          "base_uri": "https://localhost:8080/"
        },
        "id": "p_064GpZizt7",
        "outputId": "eaad04b2-a956-4cf5-b609-c64d98225ae6"
      },
      "execution_count": null,
      "outputs": [
        {
          "output_type": "execute_result",
          "data": {
            "text/plain": [
              "['/content/drive/MyDrive/Data for WQU/Project 2/buenos-aires-real-estate-1.csv',\n",
              " '/content/drive/MyDrive/Data for WQU/Project 2/buenos-aires-real-estate-2.csv',\n",
              " '/content/drive/MyDrive/Data for WQU/Project 2/buenos-aires-real-estate-3.csv',\n",
              " '/content/drive/MyDrive/Data for WQU/Project 2/buenos-aires-real-estate-4.csv',\n",
              " '/content/drive/MyDrive/Data for WQU/Project 2/buenos-aires-real-estate-5.csv']"
            ]
          },
          "metadata": {},
          "execution_count": 49
        }
      ]
    },
    {
      "cell_type": "code",
      "source": [
        "#creating a loop with the wrangle function\n",
        "frames = []\n",
        "for frame  in files:\n",
        "  df = wrangle(frame)\n",
        "  frames.append(df)\n",
        "\n",
        "df = pd.concat(frames,ignore_index=True)\n",
        "df.info()"
      ],
      "metadata": {
        "colab": {
          "base_uri": "https://localhost:8080/"
        },
        "id": "QG5nD7K2k5qa",
        "outputId": "c9e5da73-03bd-4ea4-8b11-dfc3813595a2"
      },
      "execution_count": null,
      "outputs": [
        {
          "output_type": "stream",
          "name": "stdout",
          "text": [
            "<class 'pandas.core.frame.DataFrame'>\n",
            "RangeIndex: 6582 entries, 0 to 6581\n",
            "Data columns (total 17 columns):\n",
            " #   Column                      Non-Null Count  Dtype  \n",
            "---  ------                      --------------  -----  \n",
            " 0   operation                   6582 non-null   object \n",
            " 1   property_type               6582 non-null   object \n",
            " 2   price                       6582 non-null   float64\n",
            " 3   currency                    6582 non-null   object \n",
            " 4   price_aprox_local_currency  6582 non-null   float64\n",
            " 5   price_aprox_usd             6582 non-null   float64\n",
            " 6   surface_total_in_m2         4752 non-null   float64\n",
            " 7   surface_covered_in_m2       6582 non-null   float64\n",
            " 8   price_usd_per_m2            4536 non-null   float64\n",
            " 9   price_per_m2                6582 non-null   float64\n",
            " 10  floor                       1900 non-null   float64\n",
            " 11  rooms                       5286 non-null   float64\n",
            " 12  expenses                    1739 non-null   object \n",
            " 13  properati_url               6582 non-null   object \n",
            " 14  lat                         6316 non-null   float64\n",
            " 15  lon                         6316 non-null   float64\n",
            " 16  neighborhood                6582 non-null   object \n",
            "dtypes: float64(11), object(6)\n",
            "memory usage: 874.3+ KB\n"
          ]
        }
      ]
    },
    {
      "cell_type": "code",
      "source": [
        "len(frames)"
      ],
      "metadata": {
        "colab": {
          "base_uri": "https://localhost:8080/"
        },
        "id": "aYMrsTftlxge",
        "outputId": "3ed45262-79fa-4a5f-d445-0f8b85cb79e4"
      },
      "execution_count": null,
      "outputs": [
        {
          "output_type": "execute_result",
          "data": {
            "text/plain": [
              "5"
            ]
          },
          "metadata": {},
          "execution_count": 51
        }
      ]
    },
    {
      "cell_type": "code",
      "source": [
        "df.head()"
      ],
      "metadata": {
        "id": "LZdNXOnDlngy",
        "colab": {
          "base_uri": "https://localhost:8080/",
          "height": 226
        },
        "outputId": "370bdecf-9090-4bfc-f4c8-c02a57ac57e8"
      },
      "execution_count": null,
      "outputs": [
        {
          "output_type": "execute_result",
          "data": {
            "text/plain": [
              "  operation property_type     price currency  price_aprox_local_currency  \\\n",
              "0      sell     apartment  129000.0      USD                   1955949.6   \n",
              "1      sell     apartment   87000.0      USD                   1319128.8   \n",
              "2      sell     apartment  118000.0      USD                   1789163.2   \n",
              "3      sell     apartment   57000.0      USD                    864256.8   \n",
              "4      sell     apartment   90000.0      USD                   1364616.0   \n",
              "\n",
              "   price_aprox_usd  surface_total_in_m2  surface_covered_in_m2  \\\n",
              "0         129000.0                 76.0                   70.0   \n",
              "1          87000.0                 48.0                   42.0   \n",
              "2         118000.0                  NaN                   54.0   \n",
              "3          57000.0                 42.0                   42.0   \n",
              "4          90000.0                 57.0                   50.0   \n",
              "\n",
              "   price_usd_per_m2  price_per_m2  floor  rooms expenses  \\\n",
              "0       1697.368421   1842.857143    NaN    NaN      NaN   \n",
              "1       1812.500000   2071.428571    NaN    NaN      NaN   \n",
              "2               NaN   2185.185185    NaN    2.0      NaN   \n",
              "3       1357.142857   1357.142857    5.0    2.0      364   \n",
              "4       1578.947368   1800.000000    NaN    3.0      450   \n",
              "\n",
              "                                       properati_url        lat        lon  \\\n",
              "0  http://chacarita.properati.com.ar/10qlv_venta_... -34.584651 -58.454693   \n",
              "1  http://villa-luro.properati.com.ar/12m82_venta... -34.638979 -58.500115   \n",
              "2  http://caballito.properati.com.ar/11wqh_venta_... -34.615847 -58.459957   \n",
              "3  http://constitucion.properati.com.ar/k2f0_vent... -34.625222 -58.382382   \n",
              "4  http://once.properati.com.ar/suwa_venta_depart... -34.610610 -58.412511   \n",
              "\n",
              "   neighborhood  \n",
              "0     Chacarita  \n",
              "1    Villa Luro  \n",
              "2     Caballito  \n",
              "3  Constitución  \n",
              "4          Once  "
            ],
            "text/html": [
              "\n",
              "  <div id=\"df-647b1000-5630-4c4e-950d-0c4321e76ed9\" class=\"colab-df-container\">\n",
              "    <div>\n",
              "<style scoped>\n",
              "    .dataframe tbody tr th:only-of-type {\n",
              "        vertical-align: middle;\n",
              "    }\n",
              "\n",
              "    .dataframe tbody tr th {\n",
              "        vertical-align: top;\n",
              "    }\n",
              "\n",
              "    .dataframe thead th {\n",
              "        text-align: right;\n",
              "    }\n",
              "</style>\n",
              "<table border=\"1\" class=\"dataframe\">\n",
              "  <thead>\n",
              "    <tr style=\"text-align: right;\">\n",
              "      <th></th>\n",
              "      <th>operation</th>\n",
              "      <th>property_type</th>\n",
              "      <th>price</th>\n",
              "      <th>currency</th>\n",
              "      <th>price_aprox_local_currency</th>\n",
              "      <th>price_aprox_usd</th>\n",
              "      <th>surface_total_in_m2</th>\n",
              "      <th>surface_covered_in_m2</th>\n",
              "      <th>price_usd_per_m2</th>\n",
              "      <th>price_per_m2</th>\n",
              "      <th>floor</th>\n",
              "      <th>rooms</th>\n",
              "      <th>expenses</th>\n",
              "      <th>properati_url</th>\n",
              "      <th>lat</th>\n",
              "      <th>lon</th>\n",
              "      <th>neighborhood</th>\n",
              "    </tr>\n",
              "  </thead>\n",
              "  <tbody>\n",
              "    <tr>\n",
              "      <th>0</th>\n",
              "      <td>sell</td>\n",
              "      <td>apartment</td>\n",
              "      <td>129000.0</td>\n",
              "      <td>USD</td>\n",
              "      <td>1955949.6</td>\n",
              "      <td>129000.0</td>\n",
              "      <td>76.0</td>\n",
              "      <td>70.0</td>\n",
              "      <td>1697.368421</td>\n",
              "      <td>1842.857143</td>\n",
              "      <td>NaN</td>\n",
              "      <td>NaN</td>\n",
              "      <td>NaN</td>\n",
              "      <td>http://chacarita.properati.com.ar/10qlv_venta_...</td>\n",
              "      <td>-34.584651</td>\n",
              "      <td>-58.454693</td>\n",
              "      <td>Chacarita</td>\n",
              "    </tr>\n",
              "    <tr>\n",
              "      <th>1</th>\n",
              "      <td>sell</td>\n",
              "      <td>apartment</td>\n",
              "      <td>87000.0</td>\n",
              "      <td>USD</td>\n",
              "      <td>1319128.8</td>\n",
              "      <td>87000.0</td>\n",
              "      <td>48.0</td>\n",
              "      <td>42.0</td>\n",
              "      <td>1812.500000</td>\n",
              "      <td>2071.428571</td>\n",
              "      <td>NaN</td>\n",
              "      <td>NaN</td>\n",
              "      <td>NaN</td>\n",
              "      <td>http://villa-luro.properati.com.ar/12m82_venta...</td>\n",
              "      <td>-34.638979</td>\n",
              "      <td>-58.500115</td>\n",
              "      <td>Villa Luro</td>\n",
              "    </tr>\n",
              "    <tr>\n",
              "      <th>2</th>\n",
              "      <td>sell</td>\n",
              "      <td>apartment</td>\n",
              "      <td>118000.0</td>\n",
              "      <td>USD</td>\n",
              "      <td>1789163.2</td>\n",
              "      <td>118000.0</td>\n",
              "      <td>NaN</td>\n",
              "      <td>54.0</td>\n",
              "      <td>NaN</td>\n",
              "      <td>2185.185185</td>\n",
              "      <td>NaN</td>\n",
              "      <td>2.0</td>\n",
              "      <td>NaN</td>\n",
              "      <td>http://caballito.properati.com.ar/11wqh_venta_...</td>\n",
              "      <td>-34.615847</td>\n",
              "      <td>-58.459957</td>\n",
              "      <td>Caballito</td>\n",
              "    </tr>\n",
              "    <tr>\n",
              "      <th>3</th>\n",
              "      <td>sell</td>\n",
              "      <td>apartment</td>\n",
              "      <td>57000.0</td>\n",
              "      <td>USD</td>\n",
              "      <td>864256.8</td>\n",
              "      <td>57000.0</td>\n",
              "      <td>42.0</td>\n",
              "      <td>42.0</td>\n",
              "      <td>1357.142857</td>\n",
              "      <td>1357.142857</td>\n",
              "      <td>5.0</td>\n",
              "      <td>2.0</td>\n",
              "      <td>364</td>\n",
              "      <td>http://constitucion.properati.com.ar/k2f0_vent...</td>\n",
              "      <td>-34.625222</td>\n",
              "      <td>-58.382382</td>\n",
              "      <td>Constitución</td>\n",
              "    </tr>\n",
              "    <tr>\n",
              "      <th>4</th>\n",
              "      <td>sell</td>\n",
              "      <td>apartment</td>\n",
              "      <td>90000.0</td>\n",
              "      <td>USD</td>\n",
              "      <td>1364616.0</td>\n",
              "      <td>90000.0</td>\n",
              "      <td>57.0</td>\n",
              "      <td>50.0</td>\n",
              "      <td>1578.947368</td>\n",
              "      <td>1800.000000</td>\n",
              "      <td>NaN</td>\n",
              "      <td>3.0</td>\n",
              "      <td>450</td>\n",
              "      <td>http://once.properati.com.ar/suwa_venta_depart...</td>\n",
              "      <td>-34.610610</td>\n",
              "      <td>-58.412511</td>\n",
              "      <td>Once</td>\n",
              "    </tr>\n",
              "  </tbody>\n",
              "</table>\n",
              "</div>\n",
              "    <div class=\"colab-df-buttons\">\n",
              "\n",
              "  <div class=\"colab-df-container\">\n",
              "    <button class=\"colab-df-convert\" onclick=\"convertToInteractive('df-647b1000-5630-4c4e-950d-0c4321e76ed9')\"\n",
              "            title=\"Convert this dataframe to an interactive table.\"\n",
              "            style=\"display:none;\">\n",
              "\n",
              "  <svg xmlns=\"http://www.w3.org/2000/svg\" height=\"24px\" viewBox=\"0 -960 960 960\">\n",
              "    <path d=\"M120-120v-720h720v720H120Zm60-500h600v-160H180v160Zm220 220h160v-160H400v160Zm0 220h160v-160H400v160ZM180-400h160v-160H180v160Zm440 0h160v-160H620v160ZM180-180h160v-160H180v160Zm440 0h160v-160H620v160Z\"/>\n",
              "  </svg>\n",
              "    </button>\n",
              "\n",
              "  <style>\n",
              "    .colab-df-container {\n",
              "      display:flex;\n",
              "      gap: 12px;\n",
              "    }\n",
              "\n",
              "    .colab-df-convert {\n",
              "      background-color: #E8F0FE;\n",
              "      border: none;\n",
              "      border-radius: 50%;\n",
              "      cursor: pointer;\n",
              "      display: none;\n",
              "      fill: #1967D2;\n",
              "      height: 32px;\n",
              "      padding: 0 0 0 0;\n",
              "      width: 32px;\n",
              "    }\n",
              "\n",
              "    .colab-df-convert:hover {\n",
              "      background-color: #E2EBFA;\n",
              "      box-shadow: 0px 1px 2px rgba(60, 64, 67, 0.3), 0px 1px 3px 1px rgba(60, 64, 67, 0.15);\n",
              "      fill: #174EA6;\n",
              "    }\n",
              "\n",
              "    .colab-df-buttons div {\n",
              "      margin-bottom: 4px;\n",
              "    }\n",
              "\n",
              "    [theme=dark] .colab-df-convert {\n",
              "      background-color: #3B4455;\n",
              "      fill: #D2E3FC;\n",
              "    }\n",
              "\n",
              "    [theme=dark] .colab-df-convert:hover {\n",
              "      background-color: #434B5C;\n",
              "      box-shadow: 0px 1px 3px 1px rgba(0, 0, 0, 0.15);\n",
              "      filter: drop-shadow(0px 1px 2px rgba(0, 0, 0, 0.3));\n",
              "      fill: #FFFFFF;\n",
              "    }\n",
              "  </style>\n",
              "\n",
              "    <script>\n",
              "      const buttonEl =\n",
              "        document.querySelector('#df-647b1000-5630-4c4e-950d-0c4321e76ed9 button.colab-df-convert');\n",
              "      buttonEl.style.display =\n",
              "        google.colab.kernel.accessAllowed ? 'block' : 'none';\n",
              "\n",
              "      async function convertToInteractive(key) {\n",
              "        const element = document.querySelector('#df-647b1000-5630-4c4e-950d-0c4321e76ed9');\n",
              "        const dataTable =\n",
              "          await google.colab.kernel.invokeFunction('convertToInteractive',\n",
              "                                                    [key], {});\n",
              "        if (!dataTable) return;\n",
              "\n",
              "        const docLinkHtml = 'Like what you see? Visit the ' +\n",
              "          '<a target=\"_blank\" href=https://colab.research.google.com/notebooks/data_table.ipynb>data table notebook</a>'\n",
              "          + ' to learn more about interactive tables.';\n",
              "        element.innerHTML = '';\n",
              "        dataTable['output_type'] = 'display_data';\n",
              "        await google.colab.output.renderOutput(dataTable, element);\n",
              "        const docLink = document.createElement('div');\n",
              "        docLink.innerHTML = docLinkHtml;\n",
              "        element.appendChild(docLink);\n",
              "      }\n",
              "    </script>\n",
              "  </div>\n",
              "\n",
              "\n",
              "    <div id=\"df-8d52b1ef-2b9f-49c8-a9ee-fae53899c76f\">\n",
              "      <button class=\"colab-df-quickchart\" onclick=\"quickchart('df-8d52b1ef-2b9f-49c8-a9ee-fae53899c76f')\"\n",
              "                title=\"Suggest charts\"\n",
              "                style=\"display:none;\">\n",
              "\n",
              "<svg xmlns=\"http://www.w3.org/2000/svg\" height=\"24px\"viewBox=\"0 0 24 24\"\n",
              "     width=\"24px\">\n",
              "    <g>\n",
              "        <path d=\"M19 3H5c-1.1 0-2 .9-2 2v14c0 1.1.9 2 2 2h14c1.1 0 2-.9 2-2V5c0-1.1-.9-2-2-2zM9 17H7v-7h2v7zm4 0h-2V7h2v10zm4 0h-2v-4h2v4z\"/>\n",
              "    </g>\n",
              "</svg>\n",
              "      </button>\n",
              "\n",
              "<style>\n",
              "  .colab-df-quickchart {\n",
              "      --bg-color: #E8F0FE;\n",
              "      --fill-color: #1967D2;\n",
              "      --hover-bg-color: #E2EBFA;\n",
              "      --hover-fill-color: #174EA6;\n",
              "      --disabled-fill-color: #AAA;\n",
              "      --disabled-bg-color: #DDD;\n",
              "  }\n",
              "\n",
              "  [theme=dark] .colab-df-quickchart {\n",
              "      --bg-color: #3B4455;\n",
              "      --fill-color: #D2E3FC;\n",
              "      --hover-bg-color: #434B5C;\n",
              "      --hover-fill-color: #FFFFFF;\n",
              "      --disabled-bg-color: #3B4455;\n",
              "      --disabled-fill-color: #666;\n",
              "  }\n",
              "\n",
              "  .colab-df-quickchart {\n",
              "    background-color: var(--bg-color);\n",
              "    border: none;\n",
              "    border-radius: 50%;\n",
              "    cursor: pointer;\n",
              "    display: none;\n",
              "    fill: var(--fill-color);\n",
              "    height: 32px;\n",
              "    padding: 0;\n",
              "    width: 32px;\n",
              "  }\n",
              "\n",
              "  .colab-df-quickchart:hover {\n",
              "    background-color: var(--hover-bg-color);\n",
              "    box-shadow: 0 1px 2px rgba(60, 64, 67, 0.3), 0 1px 3px 1px rgba(60, 64, 67, 0.15);\n",
              "    fill: var(--button-hover-fill-color);\n",
              "  }\n",
              "\n",
              "  .colab-df-quickchart-complete:disabled,\n",
              "  .colab-df-quickchart-complete:disabled:hover {\n",
              "    background-color: var(--disabled-bg-color);\n",
              "    fill: var(--disabled-fill-color);\n",
              "    box-shadow: none;\n",
              "  }\n",
              "\n",
              "  .colab-df-spinner {\n",
              "    border: 2px solid var(--fill-color);\n",
              "    border-color: transparent;\n",
              "    border-bottom-color: var(--fill-color);\n",
              "    animation:\n",
              "      spin 1s steps(1) infinite;\n",
              "  }\n",
              "\n",
              "  @keyframes spin {\n",
              "    0% {\n",
              "      border-color: transparent;\n",
              "      border-bottom-color: var(--fill-color);\n",
              "      border-left-color: var(--fill-color);\n",
              "    }\n",
              "    20% {\n",
              "      border-color: transparent;\n",
              "      border-left-color: var(--fill-color);\n",
              "      border-top-color: var(--fill-color);\n",
              "    }\n",
              "    30% {\n",
              "      border-color: transparent;\n",
              "      border-left-color: var(--fill-color);\n",
              "      border-top-color: var(--fill-color);\n",
              "      border-right-color: var(--fill-color);\n",
              "    }\n",
              "    40% {\n",
              "      border-color: transparent;\n",
              "      border-right-color: var(--fill-color);\n",
              "      border-top-color: var(--fill-color);\n",
              "    }\n",
              "    60% {\n",
              "      border-color: transparent;\n",
              "      border-right-color: var(--fill-color);\n",
              "    }\n",
              "    80% {\n",
              "      border-color: transparent;\n",
              "      border-right-color: var(--fill-color);\n",
              "      border-bottom-color: var(--fill-color);\n",
              "    }\n",
              "    90% {\n",
              "      border-color: transparent;\n",
              "      border-bottom-color: var(--fill-color);\n",
              "    }\n",
              "  }\n",
              "</style>\n",
              "\n",
              "      <script>\n",
              "        async function quickchart(key) {\n",
              "          const quickchartButtonEl =\n",
              "            document.querySelector('#' + key + ' button');\n",
              "          quickchartButtonEl.disabled = true;  // To prevent multiple clicks.\n",
              "          quickchartButtonEl.classList.add('colab-df-spinner');\n",
              "          try {\n",
              "            const charts = await google.colab.kernel.invokeFunction(\n",
              "                'suggestCharts', [key], {});\n",
              "          } catch (error) {\n",
              "            console.error('Error during call to suggestCharts:', error);\n",
              "          }\n",
              "          quickchartButtonEl.classList.remove('colab-df-spinner');\n",
              "          quickchartButtonEl.classList.add('colab-df-quickchart-complete');\n",
              "        }\n",
              "        (() => {\n",
              "          let quickchartButtonEl =\n",
              "            document.querySelector('#df-8d52b1ef-2b9f-49c8-a9ee-fae53899c76f button');\n",
              "          quickchartButtonEl.style.display =\n",
              "            google.colab.kernel.accessAllowed ? 'block' : 'none';\n",
              "        })();\n",
              "      </script>\n",
              "    </div>\n",
              "\n",
              "    </div>\n",
              "  </div>\n"
            ],
            "application/vnd.google.colaboratory.intrinsic+json": {
              "type": "dataframe",
              "variable_name": "df",
              "summary": "{\n  \"name\": \"df\",\n  \"rows\": 6582,\n  \"fields\": [\n    {\n      \"column\": \"operation\",\n      \"properties\": {\n        \"dtype\": \"category\",\n        \"num_unique_values\": 1,\n        \"samples\": [\n          \"sell\"\n        ],\n        \"semantic_type\": \"\",\n        \"description\": \"\"\n      }\n    },\n    {\n      \"column\": \"property_type\",\n      \"properties\": {\n        \"dtype\": \"category\",\n        \"num_unique_values\": 1,\n        \"samples\": [\n          \"apartment\"\n        ],\n        \"semantic_type\": \"\",\n        \"description\": \"\"\n      }\n    },\n    {\n      \"column\": \"price\",\n      \"properties\": {\n        \"dtype\": \"number\",\n        \"std\": 431183.2230400019,\n        \"min\": 27279.0,\n        \"max\": 6057740.0,\n        \"num_unique_values\": 1355,\n        \"samples\": [\n          142200.0\n        ],\n        \"semantic_type\": \"\",\n        \"description\": \"\"\n      }\n    },\n    {\n      \"column\": \"currency\",\n      \"properties\": {\n        \"dtype\": \"category\",\n        \"num_unique_values\": 2,\n        \"samples\": [\n          \"ARS\"\n        ],\n        \"semantic_type\": \"\",\n        \"description\": \"\"\n      }\n    },\n    {\n      \"column\": \"price_aprox_local_currency\",\n      \"properties\": {\n        \"dtype\": \"number\",\n        \"std\": 890699.2708166322,\n        \"min\": 78780.64,\n        \"max\": 6049797.6,\n        \"num_unique_values\": 1364,\n        \"samples\": [\n          4836805.6\n        ],\n        \"semantic_type\": \"\",\n        \"description\": \"\"\n      }\n    },\n    {\n      \"column\": \"price_aprox_usd\",\n      \"properties\": {\n        \"dtype\": \"number\",\n        \"std\": 58743.95021121376,\n        \"min\": 5195.79,\n        \"max\": 399000.0,\n        \"num_unique_values\": 1364,\n        \"samples\": [\n          319000.0\n        ],\n        \"semantic_type\": \"\",\n        \"description\": \"\"\n      }\n    },\n    {\n      \"column\": \"surface_total_in_m2\",\n      \"properties\": {\n        \"dtype\": \"number\",\n        \"std\": 26.261324216804137,\n        \"min\": 0.0,\n        \"max\": 246.0,\n        \"num_unique_values\": 137,\n        \"samples\": [\n          169.0\n        ],\n        \"semantic_type\": \"\",\n        \"description\": \"\"\n      }\n    },\n    {\n      \"column\": \"surface_covered_in_m2\",\n      \"properties\": {\n        \"dtype\": \"number\",\n        \"std\": 18.022045754196245,\n        \"min\": 30.0,\n        \"max\": 101.0,\n        \"num_unique_values\": 72,\n        \"samples\": [\n          74.0\n        ],\n        \"semantic_type\": \"\",\n        \"description\": \"\"\n      }\n    },\n    {\n      \"column\": \"price_usd_per_m2\",\n      \"properties\": {\n        \"dtype\": \"number\",\n        \"std\": 756.1546729565661,\n        \"min\": 112.83990196078432,\n        \"max\": 20384.615384615383,\n        \"num_unique_values\": 2565,\n        \"samples\": [\n          1568.6274509803925\n        ],\n        \"semantic_type\": \"\",\n        \"description\": \"\"\n      }\n    },\n    {\n      \"column\": \"price_per_m2\",\n      \"properties\": {\n        \"dtype\": \"number\",\n        \"std\": 8734.695293911082,\n        \"min\": 700.0,\n        \"max\": 93324.16326530612,\n        \"num_unique_values\": 3407,\n        \"samples\": [\n          2400.0\n        ],\n        \"semantic_type\": \"\",\n        \"description\": \"\"\n      }\n    },\n    {\n      \"column\": \"floor\",\n      \"properties\": {\n        \"dtype\": \"number\",\n        \"std\": 66.3374361105974,\n        \"min\": 1.0,\n        \"max\": 1508.0,\n        \"num_unique_values\": 63,\n        \"samples\": [\n          502.0\n        ],\n        \"semantic_type\": \"\",\n        \"description\": \"\"\n      }\n    },\n    {\n      \"column\": \"rooms\",\n      \"properties\": {\n        \"dtype\": \"number\",\n        \"std\": 0.8967558558676089,\n        \"min\": 1.0,\n        \"max\": 6.0,\n        \"num_unique_values\": 6,\n        \"samples\": [\n          2.0\n        ],\n        \"semantic_type\": \"\",\n        \"description\": \"\"\n      }\n    },\n    {\n      \"column\": \"expenses\",\n      \"properties\": {\n        \"dtype\": \"category\",\n        \"num_unique_values\": 354,\n        \"samples\": [\n          4790.0\n        ],\n        \"semantic_type\": \"\",\n        \"description\": \"\"\n      }\n    },\n    {\n      \"column\": \"properati_url\",\n      \"properties\": {\n        \"dtype\": \"string\",\n        \"num_unique_values\": 6582,\n        \"samples\": [\n          \"http://palermo.properati.com.ar/10avr_venta_departamentos_palermo_garage_migliorisi-propiedades_cy2\"\n        ],\n        \"semantic_type\": \"\",\n        \"description\": \"\"\n      }\n    },\n    {\n      \"column\": \"lat\",\n      \"properties\": {\n        \"dtype\": \"number\",\n        \"std\": 0.02667675939763589,\n        \"min\": -34.8173937,\n        \"max\": -34.5361079,\n        \"num_unique_values\": 4406,\n        \"samples\": [\n          -34.59305\n        ],\n        \"semantic_type\": \"\",\n        \"description\": \"\"\n      }\n    },\n    {\n      \"column\": \"lon\",\n      \"properties\": {\n        \"dtype\": \"number\",\n        \"std\": 0.03858024822787251,\n        \"min\": -58.5439579,\n        \"max\": -58.344687,\n        \"num_unique_values\": 4407,\n        \"samples\": [\n          -58.421301\n        ],\n        \"semantic_type\": \"\",\n        \"description\": \"\"\n      }\n    },\n    {\n      \"column\": \"neighborhood\",\n      \"properties\": {\n        \"dtype\": \"category\",\n        \"num_unique_values\": 57,\n        \"samples\": [\n          \"Chacarita\"\n        ],\n        \"semantic_type\": \"\",\n        \"description\": \"\"\n      }\n    }\n  ]\n}"
            }
          },
          "metadata": {},
          "execution_count": 52
        }
      ]
    },
    {
      "cell_type": "code",
      "source": [
        "#splitting the data\n",
        "target = \"price_aprox_usd\"\n",
        "features = [\"neighborhood\"]\n",
        "X_train = df[features]\n",
        "y_train = df[target]\n",
        "\n",
        "#creating baseline\n",
        "y_mean = y_train.mean()\n",
        "y_pred_baseline = [y_mean] * len(y_train)\n",
        "y_pred_baseline[:3]\n",
        "\n",
        "#baseline MAE\n",
        "mae_baseline = mean_absolute_error(y_train,y_pred_baseline)\n",
        "print(\"Baseline Mean Absolute Error\", round(mae_baseline,2))"
      ],
      "metadata": {
        "colab": {
          "base_uri": "https://localhost:8080/"
        },
        "id": "Mb6ZI1i7KjtN",
        "outputId": "81147c4d-0cd2-464d-b0cd-a57de9ba7dae"
      },
      "execution_count": null,
      "outputs": [
        {
          "output_type": "stream",
          "name": "stdout",
          "text": [
            "Baseline Mean Absolute Error 44860.11\n"
          ]
        }
      ]
    },
    {
      "cell_type": "code",
      "source": [
        "#iterate phase\n",
        "ohe = OneHotEncoder()\n",
        "ohe.fit(X_train)\n",
        "\n",
        "XT_train = ohe.transform(X_train)\n",
        "print(XT_train.shape)"
      ],
      "metadata": {
        "colab": {
          "base_uri": "https://localhost:8080/"
        },
        "id": "LCagOk2KMS6s",
        "outputId": "c97ebb65-7c32-4944-f060-a77b69e9e404"
      },
      "execution_count": null,
      "outputs": [
        {
          "output_type": "stream",
          "name": "stdout",
          "text": [
            "(6582, 57)\n"
          ]
        }
      ]
    },
    {
      "cell_type": "code",
      "source": [
        "# Check your work\n",
        "assert XT_train.shape == (6582, 57), f\"`XT_train` is the wrong shape: {XT_train.shape}\""
      ],
      "metadata": {
        "id": "9NIrxr10RSFV"
      },
      "execution_count": null,
      "outputs": []
    },
    {
      "cell_type": "code",
      "source": [
        "model = make_pipeline(\n",
        "    OneHotEncoder(),\n",
        "    Ridge()\n",
        ")\n",
        "\n",
        "model.fit(X_train,y_train)\n",
        "y_pred_training = model.predict(X_train)\n",
        "\n",
        "mae_training = mean_absolute_error(y_train, y_pred_training)\n",
        "round(mae_training,2)"
      ],
      "metadata": {
        "colab": {
          "base_uri": "https://localhost:8080/"
        },
        "id": "AcDro-5zSArd",
        "outputId": "2f8289bb-64fe-4635-c8c8-e3d09e17f1cc"
      },
      "execution_count": null,
      "outputs": [
        {
          "output_type": "execute_result",
          "data": {
            "text/plain": [
              "39350.2"
            ]
          },
          "metadata": {},
          "execution_count": 81
        }
      ]
    },
    {
      "cell_type": "code",
      "source": [
        "X_test = pd.read_csv(\"/content/drive/MyDrive/Data for WQU/Project 2/buenos-aires-test-features.csv\")[features]\n",
        "X_test.dropna(inplace = True)"
      ],
      "metadata": {
        "id": "9KL7v9EGSeLU"
      },
      "execution_count": null,
      "outputs": []
    },
    {
      "cell_type": "code",
      "source": [
        "y_pred_test = pd.Series(model.predict(X_test))\n",
        "y_pred_test.head()"
      ],
      "metadata": {
        "colab": {
          "base_uri": "https://localhost:8080/",
          "height": 241
        },
        "id": "vbfhqrRDTl5e",
        "outputId": "009909f4-b870-4f24-f7ae-0b59e71116cd"
      },
      "execution_count": null,
      "outputs": [
        {
          "output_type": "execute_result",
          "data": {
            "text/plain": [
              "0    246626.761817\n",
              "1    161356.114767\n",
              "2     98233.730967\n",
              "3    110848.623422\n",
              "4    127777.662728\n",
              "dtype: float64"
            ],
            "text/html": [
              "<div>\n",
              "<style scoped>\n",
              "    .dataframe tbody tr th:only-of-type {\n",
              "        vertical-align: middle;\n",
              "    }\n",
              "\n",
              "    .dataframe tbody tr th {\n",
              "        vertical-align: top;\n",
              "    }\n",
              "\n",
              "    .dataframe thead th {\n",
              "        text-align: right;\n",
              "    }\n",
              "</style>\n",
              "<table border=\"1\" class=\"dataframe\">\n",
              "  <thead>\n",
              "    <tr style=\"text-align: right;\">\n",
              "      <th></th>\n",
              "      <th>0</th>\n",
              "    </tr>\n",
              "  </thead>\n",
              "  <tbody>\n",
              "    <tr>\n",
              "      <th>0</th>\n",
              "      <td>246626.761817</td>\n",
              "    </tr>\n",
              "    <tr>\n",
              "      <th>1</th>\n",
              "      <td>161356.114767</td>\n",
              "    </tr>\n",
              "    <tr>\n",
              "      <th>2</th>\n",
              "      <td>98233.730967</td>\n",
              "    </tr>\n",
              "    <tr>\n",
              "      <th>3</th>\n",
              "      <td>110848.623422</td>\n",
              "    </tr>\n",
              "    <tr>\n",
              "      <th>4</th>\n",
              "      <td>127777.662728</td>\n",
              "    </tr>\n",
              "  </tbody>\n",
              "</table>\n",
              "</div><br><label><b>dtype:</b> float64</label>"
            ]
          },
          "metadata": {},
          "execution_count": 84
        }
      ]
    },
    {
      "cell_type": "code",
      "source": [
        "#pulling out coefficients and intercept\n",
        "intercept = model.named_steps[\"ridge\"].intercept_\n",
        "coefficients = model.named_steps[\"ridge\"].coef_\n",
        "print(\"Intercept\",round(intercept,2))\n",
        "\n",
        "feature_names = model.named_steps[\"onehotencoder\"].get_feature_names_out()\n",
        "feature_names[:10]"
      ],
      "metadata": {
        "colab": {
          "base_uri": "https://localhost:8080/"
        },
        "id": "nLJ3Pp_GUr2s",
        "outputId": "17e4367e-54ef-49f4-c024-7ba6193995c3"
      },
      "execution_count": null,
      "outputs": [
        {
          "output_type": "stream",
          "name": "stdout",
          "text": [
            "Intercept 118523.28\n"
          ]
        },
        {
          "output_type": "execute_result",
          "data": {
            "text/plain": [
              "array(['neighborhood_', 'neighborhood_Abasto', 'neighborhood_Agronomía',\n",
              "       'neighborhood_Almagro', 'neighborhood_Balvanera',\n",
              "       'neighborhood_Barracas', 'neighborhood_Barrio Norte',\n",
              "       'neighborhood_Belgrano', 'neighborhood_Boca', 'neighborhood_Boedo'],\n",
              "      dtype=object)"
            ]
          },
          "metadata": {},
          "execution_count": 85
        }
      ]
    },
    {
      "cell_type": "code",
      "source": [
        "#finding out the feature importance\n",
        "feat_imp = pd.Series(coefficients,index  = feature_names)\n",
        "feat_imp.head()"
      ],
      "metadata": {
        "colab": {
          "base_uri": "https://localhost:8080/",
          "height": 241
        },
        "id": "GNsGG3CuXJVW",
        "outputId": "6d9dfba7-9114-4237-9f43-26a1daaff9e3"
      },
      "execution_count": null,
      "outputs": [
        {
          "output_type": "execute_result",
          "data": {
            "text/plain": [
              "neighborhood_            -19371.226521\n",
              "neighborhood_Abasto        4332.951255\n",
              "neighborhood_Agronomía     -780.500258\n",
              "neighborhood_Almagro       2904.692509\n",
              "neighborhood_Balvanera   -11171.010820\n",
              "dtype: float64"
            ],
            "text/html": [
              "<div>\n",
              "<style scoped>\n",
              "    .dataframe tbody tr th:only-of-type {\n",
              "        vertical-align: middle;\n",
              "    }\n",
              "\n",
              "    .dataframe tbody tr th {\n",
              "        vertical-align: top;\n",
              "    }\n",
              "\n",
              "    .dataframe thead th {\n",
              "        text-align: right;\n",
              "    }\n",
              "</style>\n",
              "<table border=\"1\" class=\"dataframe\">\n",
              "  <thead>\n",
              "    <tr style=\"text-align: right;\">\n",
              "      <th></th>\n",
              "      <th>0</th>\n",
              "    </tr>\n",
              "  </thead>\n",
              "  <tbody>\n",
              "    <tr>\n",
              "      <th>neighborhood_</th>\n",
              "      <td>-19371.226521</td>\n",
              "    </tr>\n",
              "    <tr>\n",
              "      <th>neighborhood_Abasto</th>\n",
              "      <td>4332.951255</td>\n",
              "    </tr>\n",
              "    <tr>\n",
              "      <th>neighborhood_Agronomía</th>\n",
              "      <td>-780.500258</td>\n",
              "    </tr>\n",
              "    <tr>\n",
              "      <th>neighborhood_Almagro</th>\n",
              "      <td>2904.692509</td>\n",
              "    </tr>\n",
              "    <tr>\n",
              "      <th>neighborhood_Balvanera</th>\n",
              "      <td>-11171.010820</td>\n",
              "    </tr>\n",
              "  </tbody>\n",
              "</table>\n",
              "</div><br><label><b>dtype:</b> float64</label>"
            ]
          },
          "metadata": {},
          "execution_count": 86
        }
      ]
    },
    {
      "cell_type": "code",
      "source": [
        "feat_imp.sort_values(key=abs).tail(15).plot(kind = 'barh')"
      ],
      "metadata": {
        "colab": {
          "base_uri": "https://localhost:8080/",
          "height": 448
        },
        "id": "6uE-wsy8Y6U2",
        "outputId": "ba4f10ad-8a8e-4586-deb9-975a681818ad"
      },
      "execution_count": null,
      "outputs": [
        {
          "output_type": "execute_result",
          "data": {
            "text/plain": [
              "<Axes: >"
            ]
          },
          "metadata": {},
          "execution_count": 88
        },
        {
          "output_type": "display_data",
          "data": {
            "text/plain": [
              "<Figure size 640x480 with 1 Axes>"
            ],
            "image/png": "[encoded data removed]"
          },
          "metadata": {}
        }
      ]
    },
    {
      "cell_type": "code",
      "source": [],
      "metadata": {
        "id": "O-T7SqbghMz3"
      },
      "execution_count": null,
      "outputs": []
    }
  ]
}