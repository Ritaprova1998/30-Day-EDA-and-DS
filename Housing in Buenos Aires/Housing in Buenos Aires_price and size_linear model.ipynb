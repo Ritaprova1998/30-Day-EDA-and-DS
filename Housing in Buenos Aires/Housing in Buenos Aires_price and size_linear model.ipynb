{
  "nbformat": 4,
  "nbformat_minor": 0,
  "metadata": {
    "colab": {
      "provenance": []
    },
    "kernelspec": {
      "name": "python3",
      "display_name": "Python 3"
    },
    "language_info": {
      "name": "python"
    }
  },
  "cells": [
    {
      "cell_type": "code",
      "execution_count": null,
      "metadata": {
        "id": "9ljlgZEKcUZy"
      },
      "outputs": [],
      "source": [
        "import warnings\n",
        "import pandas as pd\n",
        "import matplotlib.pyplot as plt\n",
        "import seaborn as sns\n",
        "import plotly.express as px\n",
        "warnings.simplefilter(action=\"ignore\", category=FutureWarning)"
      ]
    },
    {
      "cell_type": "code",
      "source": [
        "#importing required imports from sk learn\n",
        "from sklearn.linear_model import LinearRegression#from training our model\n",
        "from sklearn.metrics import mean_absolute_error#for evaluating the model\n",
        "from sklearn.utils.validation import check_is_fitted\n"
      ],
      "metadata": {
        "id": "jMBWowDhel4m"
      },
      "execution_count": null,
      "outputs": []
    },
    {
      "cell_type": "code",
      "source": [
        "def wrangle(filename):\n",
        "  #reading the csv file\n",
        "  df = pd.read_csv(filename)\n",
        "  high,low = df[\"surface_covered_in_m2\"].quantile([0.1,0.9])\n",
        "\n",
        "  mask_state = df[\"place_with_parent_names\"].str.contains(\"Capital Federal\")\n",
        "  mask_price = df[\"price_aprox_usd\"] < 400000.0\n",
        "  mask_apt = df[\"property_type\"] == \"apartment\"\n",
        "  mask_range_area = df[\"surface_covered_in_m2\"].between(high,low)\n",
        "\n",
        "  #applying the masks\n",
        "  df = df[mask_state & mask_price & mask_apt & mask_range_area]\n",
        "\n",
        "  return df"
      ],
      "metadata": {
        "id": "w7kG3T_p44e_"
      },
      "execution_count": null,
      "outputs": []
    },
    {
      "cell_type": "code",
      "source": [
        "df = wrangle(\"/content/drive/MyDrive/Data for WQU/Project 2/buenos-aires-real-estate-1.csv\")\n",
        "df.head()"
      ],
      "metadata": {
        "colab": {
          "base_uri": "https://localhost:8080/",
          "height": 313
        },
        "id": "76x5hFK68Yrv",
        "outputId": "f30a42ae-dc76-429b-e33a-c75b8336eac7"
      },
      "execution_count": null,
      "outputs": [
        {
          "output_type": "execute_result",
          "data": {
            "text/plain": [
              "   operation property_type                   place_with_parent_names  \\\n",
              "4       sell     apartment     |Argentina|Capital Federal|Chacarita|   \n",
              "9       sell     apartment    |Argentina|Capital Federal|Villa Luro|   \n",
              "29      sell     apartment     |Argentina|Capital Federal|Caballito|   \n",
              "40      sell     apartment  |Argentina|Capital Federal|Constitución|   \n",
              "41      sell     apartment          |Argentina|Capital Federal|Once|   \n",
              "\n",
              "                          lat-lon     price currency  \\\n",
              "4   -34.5846508988,-58.4546932614  129000.0      USD   \n",
              "9          -34.6389789,-58.500115   87000.0      USD   \n",
              "29          -34.615847,-58.459957  118000.0      USD   \n",
              "40        -34.6252219,-58.3823825   57000.0      USD   \n",
              "41        -34.6106102,-58.4125107   90000.0      USD   \n",
              "\n",
              "    price_aprox_local_currency  price_aprox_usd  surface_total_in_m2  \\\n",
              "4                    1955949.6         129000.0                 76.0   \n",
              "9                    1319128.8          87000.0                 48.0   \n",
              "29                   1789163.2         118000.0                  NaN   \n",
              "40                    864256.8          57000.0                 42.0   \n",
              "41                   1364616.0          90000.0                 57.0   \n",
              "\n",
              "    surface_covered_in_m2  price_usd_per_m2  price_per_m2  floor  rooms  \\\n",
              "4                    70.0       1697.368421   1842.857143    NaN    NaN   \n",
              "9                    42.0       1812.500000   2071.428571    NaN    NaN   \n",
              "29                   54.0               NaN   2185.185185    NaN    2.0   \n",
              "40                   42.0       1357.142857   1357.142857    5.0    2.0   \n",
              "41                   50.0       1578.947368   1800.000000    NaN    3.0   \n",
              "\n",
              "   expenses                                      properati_url  \n",
              "4       NaN  http://chacarita.properati.com.ar/10qlv_venta_...  \n",
              "9       NaN  http://villa-luro.properati.com.ar/12m82_venta...  \n",
              "29      NaN  http://caballito.properati.com.ar/11wqh_venta_...  \n",
              "40      364  http://constitucion.properati.com.ar/k2f0_vent...  \n",
              "41      450  http://once.properati.com.ar/suwa_venta_depart...  "
            ],
            "text/html": [
              "\n",
              "  <div id=\"df-a0c649bf-9440-475f-aa10-3756b6e920aa\" class=\"colab-df-container\">\n",
              "    <div>\n",
              "<style scoped>\n",
              "    .dataframe tbody tr th:only-of-type {\n",
              "        vertical-align: middle;\n",
              "    }\n",
              "\n",
              "    .dataframe tbody tr th {\n",
              "        vertical-align: top;\n",
              "    }\n",
              "\n",
              "    .dataframe thead th {\n",
              "        text-align: right;\n",
              "    }\n",
              "</style>\n",
              "<table border=\"1\" class=\"dataframe\">\n",
              "  <thead>\n",
              "    <tr style=\"text-align: right;\">\n",
              "      <th></th>\n",
              "      <th>operation</th>\n",
              "      <th>property_type</th>\n",
              "      <th>place_with_parent_names</th>\n",
              "      <th>lat-lon</th>\n",
              "      <th>price</th>\n",
              "      <th>currency</th>\n",
              "      <th>price_aprox_local_currency</th>\n",
              "      <th>price_aprox_usd</th>\n",
              "      <th>surface_total_in_m2</th>\n",
              "      <th>surface_covered_in_m2</th>\n",
              "      <th>price_usd_per_m2</th>\n",
              "      <th>price_per_m2</th>\n",
              "      <th>floor</th>\n",
              "      <th>rooms</th>\n",
              "      <th>expenses</th>\n",
              "      <th>properati_url</th>\n",
              "    </tr>\n",
              "  </thead>\n",
              "  <tbody>\n",
              "    <tr>\n",
              "      <th>4</th>\n",
              "      <td>sell</td>\n",
              "      <td>apartment</td>\n",
              "      <td>|Argentina|Capital Federal|Chacarita|</td>\n",
              "      <td>-34.5846508988,-58.4546932614</td>\n",
              "      <td>129000.0</td>\n",
              "      <td>USD</td>\n",
              "      <td>1955949.6</td>\n",
              "      <td>129000.0</td>\n",
              "      <td>76.0</td>\n",
              "      <td>70.0</td>\n",
              "      <td>1697.368421</td>\n",
              "      <td>1842.857143</td>\n",
              "      <td>NaN</td>\n",
              "      <td>NaN</td>\n",
              "      <td>NaN</td>\n",
              "      <td>http://chacarita.properati.com.ar/10qlv_venta_...</td>\n",
              "    </tr>\n",
              "    <tr>\n",
              "      <th>9</th>\n",
              "      <td>sell</td>\n",
              "      <td>apartment</td>\n",
              "      <td>|Argentina|Capital Federal|Villa Luro|</td>\n",
              "      <td>-34.6389789,-58.500115</td>\n",
              "      <td>87000.0</td>\n",
              "      <td>USD</td>\n",
              "      <td>1319128.8</td>\n",
              "      <td>87000.0</td>\n",
              "      <td>48.0</td>\n",
              "      <td>42.0</td>\n",
              "      <td>1812.500000</td>\n",
              "      <td>2071.428571</td>\n",
              "      <td>NaN</td>\n",
              "      <td>NaN</td>\n",
              "      <td>NaN</td>\n",
              "      <td>http://villa-luro.properati.com.ar/12m82_venta...</td>\n",
              "    </tr>\n",
              "    <tr>\n",
              "      <th>29</th>\n",
              "      <td>sell</td>\n",
              "      <td>apartment</td>\n",
              "      <td>|Argentina|Capital Federal|Caballito|</td>\n",
              "      <td>-34.615847,-58.459957</td>\n",
              "      <td>118000.0</td>\n",
              "      <td>USD</td>\n",
              "      <td>1789163.2</td>\n",
              "      <td>118000.0</td>\n",
              "      <td>NaN</td>\n",
              "      <td>54.0</td>\n",
              "      <td>NaN</td>\n",
              "      <td>2185.185185</td>\n",
              "      <td>NaN</td>\n",
              "      <td>2.0</td>\n",
              "      <td>NaN</td>\n",
              "      <td>http://caballito.properati.com.ar/11wqh_venta_...</td>\n",
              "    </tr>\n",
              "    <tr>\n",
              "      <th>40</th>\n",
              "      <td>sell</td>\n",
              "      <td>apartment</td>\n",
              "      <td>|Argentina|Capital Federal|Constitución|</td>\n",
              "      <td>-34.6252219,-58.3823825</td>\n",
              "      <td>57000.0</td>\n",
              "      <td>USD</td>\n",
              "      <td>864256.8</td>\n",
              "      <td>57000.0</td>\n",
              "      <td>42.0</td>\n",
              "      <td>42.0</td>\n",
              "      <td>1357.142857</td>\n",
              "      <td>1357.142857</td>\n",
              "      <td>5.0</td>\n",
              "      <td>2.0</td>\n",
              "      <td>364</td>\n",
              "      <td>http://constitucion.properati.com.ar/k2f0_vent...</td>\n",
              "    </tr>\n",
              "    <tr>\n",
              "      <th>41</th>\n",
              "      <td>sell</td>\n",
              "      <td>apartment</td>\n",
              "      <td>|Argentina|Capital Federal|Once|</td>\n",
              "      <td>-34.6106102,-58.4125107</td>\n",
              "      <td>90000.0</td>\n",
              "      <td>USD</td>\n",
              "      <td>1364616.0</td>\n",
              "      <td>90000.0</td>\n",
              "      <td>57.0</td>\n",
              "      <td>50.0</td>\n",
              "      <td>1578.947368</td>\n",
              "      <td>1800.000000</td>\n",
              "      <td>NaN</td>\n",
              "      <td>3.0</td>\n",
              "      <td>450</td>\n",
              "      <td>http://once.properati.com.ar/suwa_venta_depart...</td>\n",
              "    </tr>\n",
              "  </tbody>\n",
              "</table>\n",
              "</div>\n",
              "    <div class=\"colab-df-buttons\">\n",
              "\n",
              "  <div class=\"colab-df-container\">\n",
              "    <button class=\"colab-df-convert\" onclick=\"convertToInteractive('df-a0c649bf-9440-475f-aa10-3756b6e920aa')\"\n",
              "            title=\"Convert this dataframe to an interactive table.\"\n",
              "            style=\"display:none;\">\n",
              "\n",
              "  <svg xmlns=\"http://www.w3.org/2000/svg\" height=\"24px\" viewBox=\"0 -960 960 960\">\n",
              "    <path d=\"M120-120v-720h720v720H120Zm60-500h600v-160H180v160Zm220 220h160v-160H400v160Zm0 220h160v-160H400v160ZM180-400h160v-160H180v160Zm440 0h160v-160H620v160ZM180-180h160v-160H180v160Zm440 0h160v-160H620v160Z\"/>\n",
              "  </svg>\n",
              "    </button>\n",
              "\n",
              "  <style>\n",
              "    .colab-df-container {\n",
              "      display:flex;\n",
              "      gap: 12px;\n",
              "    }\n",
              "\n",
              "    .colab-df-convert {\n",
              "      background-color: #E8F0FE;\n",
              "      border: none;\n",
              "      border-radius: 50%;\n",
              "      cursor: pointer;\n",
              "      display: none;\n",
              "      fill: #1967D2;\n",
              "      height: 32px;\n",
              "      padding: 0 0 0 0;\n",
              "      width: 32px;\n",
              "    }\n",
              "\n",
              "    .colab-df-convert:hover {\n",
              "      background-color: #E2EBFA;\n",
              "      box-shadow: 0px 1px 2px rgba(60, 64, 67, 0.3), 0px 1px 3px 1px rgba(60, 64, 67, 0.15);\n",
              "      fill: #174EA6;\n",
              "    }\n",
              "\n",
              "    .colab-df-buttons div {\n",
              "      margin-bottom: 4px;\n",
              "    }\n",
              "\n",
              "    [theme=dark] .colab-df-convert {\n",
              "      background-color: #3B4455;\n",
              "      fill: #D2E3FC;\n",
              "    }\n",
              "\n",
              "    [theme=dark] .colab-df-convert:hover {\n",
              "      background-color: #434B5C;\n",
              "      box-shadow: 0px 1px 3px 1px rgba(0, 0, 0, 0.15);\n",
              "      filter: drop-shadow(0px 1px 2px rgba(0, 0, 0, 0.3));\n",
              "      fill: #FFFFFF;\n",
              "    }\n",
              "  </style>\n",
              "\n",
              "    <script>\n",
              "      const buttonEl =\n",
              "        document.querySelector('#df-a0c649bf-9440-475f-aa10-3756b6e920aa button.colab-df-convert');\n",
              "      buttonEl.style.display =\n",
              "        google.colab.kernel.accessAllowed ? 'block' : 'none';\n",
              "\n",
              "      async function convertToInteractive(key) {\n",
              "        const element = document.querySelector('#df-a0c649bf-9440-475f-aa10-3756b6e920aa');\n",
              "        const dataTable =\n",
              "          await google.colab.kernel.invokeFunction('convertToInteractive',\n",
              "                                                    [key], {});\n",
              "        if (!dataTable) return;\n",
              "\n",
              "        const docLinkHtml = 'Like what you see? Visit the ' +\n",
              "          '<a target=\"_blank\" href=https://colab.research.google.com/notebooks/data_table.ipynb>data table notebook</a>'\n",
              "          + ' to learn more about interactive tables.';\n",
              "        element.innerHTML = '';\n",
              "        dataTable['output_type'] = 'display_data';\n",
              "        await google.colab.output.renderOutput(dataTable, element);\n",
              "        const docLink = document.createElement('div');\n",
              "        docLink.innerHTML = docLinkHtml;\n",
              "        element.appendChild(docLink);\n",
              "      }\n",
              "    </script>\n",
              "  </div>\n",
              "\n",
              "\n",
              "    <div id=\"df-fd4dd8c8-5ac7-43f0-b0b3-0241e3113f77\">\n",
              "      <button class=\"colab-df-quickchart\" onclick=\"quickchart('df-fd4dd8c8-5ac7-43f0-b0b3-0241e3113f77')\"\n",
              "                title=\"Suggest charts\"\n",
              "                style=\"display:none;\">\n",
              "\n",
              "<svg xmlns=\"http://www.w3.org/2000/svg\" height=\"24px\"viewBox=\"0 0 24 24\"\n",
              "     width=\"24px\">\n",
              "    <g>\n",
              "        <path d=\"M19 3H5c-1.1 0-2 .9-2 2v14c0 1.1.9 2 2 2h14c1.1 0 2-.9 2-2V5c0-1.1-.9-2-2-2zM9 17H7v-7h2v7zm4 0h-2V7h2v10zm4 0h-2v-4h2v4z\"/>\n",
              "    </g>\n",
              "</svg>\n",
              "      </button>\n",
              "\n",
              "<style>\n",
              "  .colab-df-quickchart {\n",
              "      --bg-color: #E8F0FE;\n",
              "      --fill-color: #1967D2;\n",
              "      --hover-bg-color: #E2EBFA;\n",
              "      --hover-fill-color: #174EA6;\n",
              "      --disabled-fill-color: #AAA;\n",
              "      --disabled-bg-color: #DDD;\n",
              "  }\n",
              "\n",
              "  [theme=dark] .colab-df-quickchart {\n",
              "      --bg-color: #3B4455;\n",
              "      --fill-color: #D2E3FC;\n",
              "      --hover-bg-color: #434B5C;\n",
              "      --hover-fill-color: #FFFFFF;\n",
              "      --disabled-bg-color: #3B4455;\n",
              "      --disabled-fill-color: #666;\n",
              "  }\n",
              "\n",
              "  .colab-df-quickchart {\n",
              "    background-color: var(--bg-color);\n",
              "    border: none;\n",
              "    border-radius: 50%;\n",
              "    cursor: pointer;\n",
              "    display: none;\n",
              "    fill: var(--fill-color);\n",
              "    height: 32px;\n",
              "    padding: 0;\n",
              "    width: 32px;\n",
              "  }\n",
              "\n",
              "  .colab-df-quickchart:hover {\n",
              "    background-color: var(--hover-bg-color);\n",
              "    box-shadow: 0 1px 2px rgba(60, 64, 67, 0.3), 0 1px 3px 1px rgba(60, 64, 67, 0.15);\n",
              "    fill: var(--button-hover-fill-color);\n",
              "  }\n",
              "\n",
              "  .colab-df-quickchart-complete:disabled,\n",
              "  .colab-df-quickchart-complete:disabled:hover {\n",
              "    background-color: var(--disabled-bg-color);\n",
              "    fill: var(--disabled-fill-color);\n",
              "    box-shadow: none;\n",
              "  }\n",
              "\n",
              "  .colab-df-spinner {\n",
              "    border: 2px solid var(--fill-color);\n",
              "    border-color: transparent;\n",
              "    border-bottom-color: var(--fill-color);\n",
              "    animation:\n",
              "      spin 1s steps(1) infinite;\n",
              "  }\n",
              "\n",
              "  @keyframes spin {\n",
              "    0% {\n",
              "      border-color: transparent;\n",
              "      border-bottom-color: var(--fill-color);\n",
              "      border-left-color: var(--fill-color);\n",
              "    }\n",
              "    20% {\n",
              "      border-color: transparent;\n",
              "      border-left-color: var(--fill-color);\n",
              "      border-top-color: var(--fill-color);\n",
              "    }\n",
              "    30% {\n",
              "      border-color: transparent;\n",
              "      border-left-color: var(--fill-color);\n",
              "      border-top-color: var(--fill-color);\n",
              "      border-right-color: var(--fill-color);\n",
              "    }\n",
              "    40% {\n",
              "      border-color: transparent;\n",
              "      border-right-color: var(--fill-color);\n",
              "      border-top-color: var(--fill-color);\n",
              "    }\n",
              "    60% {\n",
              "      border-color: transparent;\n",
              "      border-right-color: var(--fill-color);\n",
              "    }\n",
              "    80% {\n",
              "      border-color: transparent;\n",
              "      border-right-color: var(--fill-color);\n",
              "      border-bottom-color: var(--fill-color);\n",
              "    }\n",
              "    90% {\n",
              "      border-color: transparent;\n",
              "      border-bottom-color: var(--fill-color);\n",
              "    }\n",
              "  }\n",
              "</style>\n",
              "\n",
              "      <script>\n",
              "        async function quickchart(key) {\n",
              "          const quickchartButtonEl =\n",
              "            document.querySelector('#' + key + ' button');\n",
              "          quickchartButtonEl.disabled = true;  // To prevent multiple clicks.\n",
              "          quickchartButtonEl.classList.add('colab-df-spinner');\n",
              "          try {\n",
              "            const charts = await google.colab.kernel.invokeFunction(\n",
              "                'suggestCharts', [key], {});\n",
              "          } catch (error) {\n",
              "            console.error('Error during call to suggestCharts:', error);\n",
              "          }\n",
              "          quickchartButtonEl.classList.remove('colab-df-spinner');\n",
              "          quickchartButtonEl.classList.add('colab-df-quickchart-complete');\n",
              "        }\n",
              "        (() => {\n",
              "          let quickchartButtonEl =\n",
              "            document.querySelector('#df-fd4dd8c8-5ac7-43f0-b0b3-0241e3113f77 button');\n",
              "          quickchartButtonEl.style.display =\n",
              "            google.colab.kernel.accessAllowed ? 'block' : 'none';\n",
              "        })();\n",
              "      </script>\n",
              "    </div>\n",
              "\n",
              "    </div>\n",
              "  </div>\n"
            ],
            "application/vnd.google.colaboratory.intrinsic+json": {
              "type": "dataframe",
              "variable_name": "df",
              "summary": "{\n  \"name\": \"df\",\n  \"rows\": 777,\n  \"fields\": [\n    {\n      \"column\": \"operation\",\n      \"properties\": {\n        \"dtype\": \"category\",\n        \"num_unique_values\": 1,\n        \"samples\": [\n          \"sell\"\n        ],\n        \"semantic_type\": \"\",\n        \"description\": \"\"\n      }\n    },\n    {\n      \"column\": \"property_type\",\n      \"properties\": {\n        \"dtype\": \"category\",\n        \"num_unique_values\": 1,\n        \"samples\": [\n          \"apartment\"\n        ],\n        \"semantic_type\": \"\",\n        \"description\": \"\"\n      }\n    },\n    {\n      \"column\": \"place_with_parent_names\",\n      \"properties\": {\n        \"dtype\": \"category\",\n        \"num_unique_values\": 52,\n        \"samples\": [\n          \"|Argentina|Capital Federal|Villa Lugano|\"\n        ],\n        \"semantic_type\": \"\",\n        \"description\": \"\"\n      }\n    },\n    {\n      \"column\": \"lat-lon\",\n      \"properties\": {\n        \"dtype\": \"string\",\n        \"num_unique_values\": 666,\n        \"samples\": [\n          \"-34.6322076,-58.4851448\"\n        ],\n        \"semantic_type\": \"\",\n        \"description\": \"\"\n      }\n    },\n    {\n      \"column\": \"price\",\n      \"properties\": {\n        \"dtype\": \"number\",\n        \"std\": 374228.40594759956,\n        \"min\": 37983.0,\n        \"max\": 3458648.0,\n        \"num_unique_values\": 296,\n        \"samples\": [\n          179375.0\n        ],\n        \"semantic_type\": \"\",\n        \"description\": \"\"\n      }\n    },\n    {\n      \"column\": \"currency\",\n      \"properties\": {\n        \"dtype\": \"category\",\n        \"num_unique_values\": 2,\n        \"samples\": [\n          \"ARS\"\n        ],\n        \"semantic_type\": \"\",\n        \"description\": \"\"\n      }\n    },\n    {\n      \"column\": \"price_aprox_local_currency\",\n      \"properties\": {\n        \"dtype\": \"number\",\n        \"std\": 691902.4546531144,\n        \"min\": 575913.43,\n        \"max\": 5989148.0,\n        \"num_unique_values\": 296,\n        \"samples\": [\n          2719755.5\n        ],\n        \"semantic_type\": \"\",\n        \"description\": \"\"\n      }\n    },\n    {\n      \"column\": \"price_aprox_usd\",\n      \"properties\": {\n        \"dtype\": \"number\",\n        \"std\": 45632.7794172598,\n        \"min\": 37983.0,\n        \"max\": 395000.0,\n        \"num_unique_values\": 296,\n        \"samples\": [\n          179375.0\n        ],\n        \"semantic_type\": \"\",\n        \"description\": \"\"\n      }\n    },\n    {\n      \"column\": \"surface_total_in_m2\",\n      \"properties\": {\n        \"dtype\": \"number\",\n        \"std\": 22.170813992497177,\n        \"min\": 0.0,\n        \"max\": 229.0,\n        \"num_unique_values\": 67,\n        \"samples\": [\n          39.0\n        ],\n        \"semantic_type\": \"\",\n        \"description\": \"\"\n      }\n    },\n    {\n      \"column\": \"surface_covered_in_m2\",\n      \"properties\": {\n        \"dtype\": \"number\",\n        \"std\": 9.213848269515818,\n        \"min\": 39.0,\n        \"max\": 70.0,\n        \"num_unique_values\": 32,\n        \"samples\": [\n          39.0\n        ],\n        \"semantic_type\": \"\",\n        \"description\": \"\"\n      }\n    },\n    {\n      \"column\": \"price_usd_per_m2\",\n      \"properties\": {\n        \"dtype\": \"number\",\n        \"std\": 627.8991346415099,\n        \"min\": 633.05,\n        \"max\": 5777.777777777777,\n        \"num_unique_values\": 442,\n        \"samples\": [\n          1920.0\n        ],\n        \"semantic_type\": \"\",\n        \"description\": \"\"\n      }\n    },\n    {\n      \"column\": \"price_per_m2\",\n      \"properties\": {\n        \"dtype\": \"number\",\n        \"std\": 7502.78968031768,\n        \"min\": 808.1489361702128,\n        \"max\": 50862.470588235294,\n        \"num_unique_values\": 621,\n        \"samples\": [\n          2468.75\n        ],\n        \"semantic_type\": \"\",\n        \"description\": \"\"\n      }\n    },\n    {\n      \"column\": \"floor\",\n      \"properties\": {\n        \"dtype\": \"number\",\n        \"std\": 56.11922046666996,\n        \"min\": 1.0,\n        \"max\": 616.0,\n        \"num_unique_values\": 25,\n        \"samples\": [\n          6.0\n        ],\n        \"semantic_type\": \"\",\n        \"description\": \"\"\n      }\n    },\n    {\n      \"column\": \"rooms\",\n      \"properties\": {\n        \"dtype\": \"number\",\n        \"std\": 0.6810910776776828,\n        \"min\": 1.0,\n        \"max\": 4.0,\n        \"num_unique_values\": 4,\n        \"samples\": [\n          3.0\n        ],\n        \"semantic_type\": \"\",\n        \"description\": \"\"\n      }\n    },\n    {\n      \"column\": \"expenses\",\n      \"properties\": {\n        \"dtype\": \"category\",\n        \"num_unique_values\": 74,\n        \"samples\": [\n          \"2500\"\n        ],\n        \"semantic_type\": \"\",\n        \"description\": \"\"\n      }\n    },\n    {\n      \"column\": \"properati_url\",\n      \"properties\": {\n        \"dtype\": \"string\",\n        \"num_unique_values\": 777,\n        \"samples\": [\n          \"http://villa-crespo.properati.com.ar/ytzk_venta_departamentos_villa-crespo_balcon_toilette_vestidor_luminoso_placard_eduardo-bertolotti-propiedades\"\n        ],\n        \"semantic_type\": \"\",\n        \"description\": \"\"\n      }\n    }\n  ]\n}"
            }
          },
          "metadata": {},
          "execution_count": 126
        }
      ]
    },
    {
      "cell_type": "code",
      "source": [
        "len(df)"
      ],
      "metadata": {
        "colab": {
          "base_uri": "https://localhost:8080/"
        },
        "id": "50NQM8fH8d01",
        "outputId": "8330cc52-9869-45c3-87e9-76f801fec96e"
      },
      "execution_count": null,
      "outputs": [
        {
          "output_type": "execute_result",
          "data": {
            "text/plain": [
              "777"
            ]
          },
          "metadata": {},
          "execution_count": 127
        }
      ]
    },
    {
      "cell_type": "code",
      "source": [
        "\"\"\"#mask_state = df[\"place_with_parent_names\"].str.split(\"|\",expand =True)[2] == \"Capital Federal\"\n",
        "#using str.contains in place of method chaining\n",
        "mask_state = df[\"place_with_parent_names\"].str.contains(\"Capital Federal\")\n",
        "#df[mask_state].head()\n",
        "\n",
        "#creating a maks for price < $400,000 USD\n",
        "mask_price = df[\"price_aprox_usd\"] < 400000.0\n",
        "#df[mask_price].head()\n",
        "\n",
        "#creating mask for property type = apartments\n",
        "df[\"property_type\"].value_counts()\n",
        "mask_apt = df[\"property_type\"] == \"apartment\"\n",
        "df[mask_apt].head()\"\"\""
      ],
      "metadata": {
        "id": "cSrNYJyY8vXt",
        "colab": {
          "base_uri": "https://localhost:8080/",
          "height": 70
        },
        "outputId": "3620dc58-7945-4367-9460-7227a063a8bd"
      },
      "execution_count": null,
      "outputs": [
        {
          "output_type": "execute_result",
          "data": {
            "text/plain": [
              "'#mask_state = df[\"place_with_parent_names\"].str.split(\"|\",expand =True)[2] == \"Capital Federal\"\\n#using str.contains in place of method chaining\\nmask_state = df[\"place_with_parent_names\"].str.contains(\"Capital Federal\")\\n#df[mask_state].head()\\n\\n#creating a maks for price < $400,000 USD\\nmask_price = df[\"price_aprox_usd\"] < 400000.0\\n#df[mask_price].head()\\n\\n#creating mask for property type = apartments\\ndf[\"property_type\"].value_counts()\\nmask_apt = df[\"property_type\"] == \"apartment\"\\ndf[mask_apt].head()'"
            ],
            "application/vnd.google.colaboratory.intrinsic+json": {
              "type": "string"
            }
          },
          "metadata": {},
          "execution_count": 124
        }
      ]
    },
    {
      "cell_type": "code",
      "source": [
        "#creating a histogram\n",
        "plt.hist(\n",
        "    df[\"surface_covered_in_m2\"]\n",
        ")\n",
        "plt.xlabel(\"Area in Sq Meters\")\n",
        "plt.ylabel(\"Frequency\")\n",
        "plt.title(\"Distribution of Home Sizes\");\n",
        "# from the skewness we can easily find out that there are outliers"
      ],
      "metadata": {
        "colab": {
          "base_uri": "https://localhost:8080/",
          "height": 624
        },
        "id": "n_2Gj3SrmJzY",
        "outputId": "312c1898-d595-4337-e968-691072b57d91"
      },
      "execution_count": null,
      "outputs": [
        {
          "output_type": "error",
          "ename": "TypeError",
          "evalue": "'str' object is not callable",
          "traceback": [
            "\u001b[0;31m---------------------------------------------------------------------------\u001b[0m",
            "\u001b[0;31mTypeError\u001b[0m                                 Traceback (most recent call last)",
            "\u001b[0;32m/tmp/ipython-input-4262883927.py\u001b[0m in \u001b[0;36m<cell line: 0>\u001b[0;34m()\u001b[0m\n\u001b[1;32m      3\u001b[0m     \u001b[0mdf\u001b[0m\u001b[0;34m[\u001b[0m\u001b[0;34m\"surface_covered_in_m2\"\u001b[0m\u001b[0;34m]\u001b[0m\u001b[0;34m\u001b[0m\u001b[0;34m\u001b[0m\u001b[0m\n\u001b[1;32m      4\u001b[0m )\n\u001b[0;32m----> 5\u001b[0;31m \u001b[0mplt\u001b[0m\u001b[0;34m.\u001b[0m\u001b[0mxlabel\u001b[0m\u001b[0;34m(\u001b[0m\u001b[0;34m\"Area in Sq Meters\"\u001b[0m\u001b[0;34m)\u001b[0m\u001b[0;34m\u001b[0m\u001b[0;34m\u001b[0m\u001b[0m\n\u001b[0m\u001b[1;32m      6\u001b[0m \u001b[0mplt\u001b[0m\u001b[0;34m.\u001b[0m\u001b[0mylabel\u001b[0m\u001b[0;34m(\u001b[0m\u001b[0;34m\"Frequency\"\u001b[0m\u001b[0;34m)\u001b[0m\u001b[0;34m\u001b[0m\u001b[0;34m\u001b[0m\u001b[0m\n\u001b[1;32m      7\u001b[0m \u001b[0mplt\u001b[0m\u001b[0;34m.\u001b[0m\u001b[0mtitle\u001b[0m\u001b[0;34m(\u001b[0m\u001b[0;34m\"Distribution of Home Sizes\"\u001b[0m\u001b[0;34m)\u001b[0m\u001b[0;34m;\u001b[0m\u001b[0;34m\u001b[0m\u001b[0;34m\u001b[0m\u001b[0m\n",
            "\u001b[0;31mTypeError\u001b[0m: 'str' object is not callable"
          ]
        },
        {
          "output_type": "display_data",
          "data": {
            "text/plain": [
              "<Figure size 640x480 with 1 Axes>"
            ],
            "image/png": "[encoded data removed]"
          },
          "metadata": {}
        }
      ]
    },
    {
      "cell_type": "code",
      "source": [
        "plt.boxplot(\n",
        "    df[\"surface_covered_in_m2\"], vert=False\n",
        ")"
      ],
      "metadata": {
        "id": "sPeWBxHrmXPy"
      },
      "execution_count": null,
      "outputs": []
    },
    {
      "cell_type": "code",
      "source": [
        "#Summary Statistics:\n",
        "df[\"surface_covered_in_m2\"].describe()\n",
        "\n",
        "#the min surface_area = 0(not possible) and the max surface_area = 1635(way outside our range)"
      ],
      "metadata": {
        "colab": {
          "base_uri": "https://localhost:8080/",
          "height": 335
        },
        "id": "2fdsGBiymzWp",
        "outputId": "2dae2fe6-ac76-4638-a381-3c889da7cedd"
      },
      "execution_count": null,
      "outputs": [
        {
          "output_type": "execute_result",
          "data": {
            "text/plain": [
              "count    918.000000\n",
              "mean      52.379085\n",
              "std       11.037760\n",
              "min       37.000000\n",
              "25%       43.000000\n",
              "50%       50.000000\n",
              "75%       60.000000\n",
              "max       75.000000\n",
              "Name: surface_covered_in_m2, dtype: float64"
            ],
            "text/html": [
              "<div>\n",
              "<style scoped>\n",
              "    .dataframe tbody tr th:only-of-type {\n",
              "        vertical-align: middle;\n",
              "    }\n",
              "\n",
              "    .dataframe tbody tr th {\n",
              "        vertical-align: top;\n",
              "    }\n",
              "\n",
              "    .dataframe thead th {\n",
              "        text-align: right;\n",
              "    }\n",
              "</style>\n",
              "<table border=\"1\" class=\"dataframe\">\n",
              "  <thead>\n",
              "    <tr style=\"text-align: right;\">\n",
              "      <th></th>\n",
              "      <th>surface_covered_in_m2</th>\n",
              "    </tr>\n",
              "  </thead>\n",
              "  <tbody>\n",
              "    <tr>\n",
              "      <th>count</th>\n",
              "      <td>918.000000</td>\n",
              "    </tr>\n",
              "    <tr>\n",
              "      <th>mean</th>\n",
              "      <td>52.379085</td>\n",
              "    </tr>\n",
              "    <tr>\n",
              "      <th>std</th>\n",
              "      <td>11.037760</td>\n",
              "    </tr>\n",
              "    <tr>\n",
              "      <th>min</th>\n",
              "      <td>37.000000</td>\n",
              "    </tr>\n",
              "    <tr>\n",
              "      <th>25%</th>\n",
              "      <td>43.000000</td>\n",
              "    </tr>\n",
              "    <tr>\n",
              "      <th>50%</th>\n",
              "      <td>50.000000</td>\n",
              "    </tr>\n",
              "    <tr>\n",
              "      <th>75%</th>\n",
              "      <td>60.000000</td>\n",
              "    </tr>\n",
              "    <tr>\n",
              "      <th>max</th>\n",
              "      <td>75.000000</td>\n",
              "    </tr>\n",
              "  </tbody>\n",
              "</table>\n",
              "</div><br><label><b>dtype:</b> float64</label>"
            ]
          },
          "metadata": {},
          "execution_count": 107
        }
      ]
    },
    {
      "cell_type": "code",
      "source": [
        "#we can take qunatiles to get the range of numbers we want\n",
        "high,low = df[\"surface_covered_in_m2\"].quantile([0.1,0.9])\n",
        "mask_range_area = df[\"surface_covered_in_m2\"].between(high,low)\n",
        "print(\"lower range:\",low)\n",
        "print(\"higher range:\",high)\n",
        "\n",
        "df[mask_range_area][\"surface_covered_in_m2\"].describe()"
      ],
      "metadata": {
        "colab": {
          "base_uri": "https://localhost:8080/",
          "height": 370
        },
        "id": "sCm9bzo1nG_o",
        "outputId": "fb3b213b-42f3-4400-ddb8-fe1b8e46cb8e"
      },
      "execution_count": null,
      "outputs": [
        {
          "output_type": "stream",
          "name": "stdout",
          "text": [
            "lower range: 70.0\n",
            "higher range: 39.0\n"
          ]
        },
        {
          "output_type": "execute_result",
          "data": {
            "text/plain": [
              "count    777.000000\n",
              "mean      52.075933\n",
              "std        9.213848\n",
              "min       39.000000\n",
              "25%       44.000000\n",
              "50%       50.000000\n",
              "75%       60.000000\n",
              "max       70.000000\n",
              "Name: surface_covered_in_m2, dtype: float64"
            ],
            "text/html": [
              "<div>\n",
              "<style scoped>\n",
              "    .dataframe tbody tr th:only-of-type {\n",
              "        vertical-align: middle;\n",
              "    }\n",
              "\n",
              "    .dataframe tbody tr th {\n",
              "        vertical-align: top;\n",
              "    }\n",
              "\n",
              "    .dataframe thead th {\n",
              "        text-align: right;\n",
              "    }\n",
              "</style>\n",
              "<table border=\"1\" class=\"dataframe\">\n",
              "  <thead>\n",
              "    <tr style=\"text-align: right;\">\n",
              "      <th></th>\n",
              "      <th>surface_covered_in_m2</th>\n",
              "    </tr>\n",
              "  </thead>\n",
              "  <tbody>\n",
              "    <tr>\n",
              "      <th>count</th>\n",
              "      <td>777.000000</td>\n",
              "    </tr>\n",
              "    <tr>\n",
              "      <th>mean</th>\n",
              "      <td>52.075933</td>\n",
              "    </tr>\n",
              "    <tr>\n",
              "      <th>std</th>\n",
              "      <td>9.213848</td>\n",
              "    </tr>\n",
              "    <tr>\n",
              "      <th>min</th>\n",
              "      <td>39.000000</td>\n",
              "    </tr>\n",
              "    <tr>\n",
              "      <th>25%</th>\n",
              "      <td>44.000000</td>\n",
              "    </tr>\n",
              "    <tr>\n",
              "      <th>50%</th>\n",
              "      <td>50.000000</td>\n",
              "    </tr>\n",
              "    <tr>\n",
              "      <th>75%</th>\n",
              "      <td>60.000000</td>\n",
              "    </tr>\n",
              "    <tr>\n",
              "      <th>max</th>\n",
              "      <td>70.000000</td>\n",
              "    </tr>\n",
              "  </tbody>\n",
              "</table>\n",
              "</div><br><label><b>dtype:</b> float64</label>"
            ]
          },
          "metadata": {},
          "execution_count": 108
        }
      ]
    },
    {
      "cell_type": "code",
      "source": [
        "#finding out the relationship between price and area\n",
        "plt.scatter(\n",
        "    x = df[\"surface_covered_in_m2\"],\n",
        "    y = df[\"price_aprox_usd\"]\n",
        ")\n",
        "plt.xlabel(\"Surface area in sq meters\")\n",
        "plt.ylabel(\"Price in US Dollars\")\n",
        "plt.title (\"Price Vs Home Sizes\")"
      ],
      "metadata": {
        "colab": {
          "base_uri": "https://localhost:8080/",
          "height": 624
        },
        "id": "R_yDUEJAnpiY",
        "outputId": "bfc3eeb5-c09f-46c8-b406-857aceda9c8c"
      },
      "execution_count": null,
      "outputs": [
        {
          "output_type": "error",
          "ename": "TypeError",
          "evalue": "'str' object is not callable",
          "traceback": [
            "\u001b[0;31m---------------------------------------------------------------------------\u001b[0m",
            "\u001b[0;31mTypeError\u001b[0m                                 Traceback (most recent call last)",
            "\u001b[0;32m/tmp/ipython-input-972021157.py\u001b[0m in \u001b[0;36m<cell line: 0>\u001b[0;34m()\u001b[0m\n\u001b[1;32m      4\u001b[0m     \u001b[0my\u001b[0m \u001b[0;34m=\u001b[0m \u001b[0mdf\u001b[0m\u001b[0;34m[\u001b[0m\u001b[0;34m\"price_aprox_usd\"\u001b[0m\u001b[0;34m]\u001b[0m\u001b[0;34m\u001b[0m\u001b[0;34m\u001b[0m\u001b[0m\n\u001b[1;32m      5\u001b[0m )\n\u001b[0;32m----> 6\u001b[0;31m \u001b[0mplt\u001b[0m\u001b[0;34m.\u001b[0m\u001b[0mxlabel\u001b[0m\u001b[0;34m(\u001b[0m\u001b[0;34m\"Surface area in sq meters\"\u001b[0m\u001b[0;34m)\u001b[0m\u001b[0;34m\u001b[0m\u001b[0;34m\u001b[0m\u001b[0m\n\u001b[0m\u001b[1;32m      7\u001b[0m \u001b[0mplt\u001b[0m\u001b[0;34m.\u001b[0m\u001b[0mylabel\u001b[0m\u001b[0;34m(\u001b[0m\u001b[0;34m\"Price in US Dollars\"\u001b[0m\u001b[0;34m)\u001b[0m\u001b[0;34m\u001b[0m\u001b[0;34m\u001b[0m\u001b[0m\n\u001b[1;32m      8\u001b[0m \u001b[0mplt\u001b[0m\u001b[0;34m.\u001b[0m\u001b[0mtitle\u001b[0m \u001b[0;34m(\u001b[0m\u001b[0;34m\"Price Vs Home Sizes\"\u001b[0m\u001b[0;34m)\u001b[0m\u001b[0;34m\u001b[0m\u001b[0;34m\u001b[0m\u001b[0m\n",
            "\u001b[0;31mTypeError\u001b[0m: 'str' object is not callable"
          ]
        },
        {
          "output_type": "display_data",
          "data": {
            "text/plain": [
              "<Figure size 640x480 with 1 Axes>"
            ],
            "image/png": "[encoded data removed]"
          },
          "metadata": {}
        }
      ]
    },
    {
      "cell_type": "code",
      "source": [
        "#Spliting the data into feature matrices and target vectors\n",
        "features = [\"surface_covered_in_m2\"]\n",
        "X_train = df[features]\n",
        "print(\"shape of X_train\", X_train.shape)\n",
        "\n",
        "target = \"price_aprox_usd\"\n",
        "y_train = df[target]\n",
        "print(\"shape of y_train\", _train.shape)"
      ],
      "metadata": {
        "colab": {
          "base_uri": "https://localhost:8080/",
          "height": 193
        },
        "id": "ZVw6fOFrpR4Z",
        "outputId": "568862e5-360a-4fef-e8d1-22075a364df5"
      },
      "execution_count": null,
      "outputs": [
        {
          "output_type": "stream",
          "name": "stdout",
          "text": [
            "shape of X_train (918, 1)\n"
          ]
        },
        {
          "output_type": "error",
          "ename": "NameError",
          "evalue": "name '_train' is not defined",
          "traceback": [
            "\u001b[0;31m---------------------------------------------------------------------------\u001b[0m",
            "\u001b[0;31mNameError\u001b[0m                                 Traceback (most recent call last)",
            "\u001b[0;32m/tmp/ipython-input-809624852.py\u001b[0m in \u001b[0;36m<cell line: 0>\u001b[0;34m()\u001b[0m\n\u001b[1;32m      6\u001b[0m \u001b[0mtarget\u001b[0m \u001b[0;34m=\u001b[0m \u001b[0;34m\"price_aprox_usd\"\u001b[0m\u001b[0;34m\u001b[0m\u001b[0;34m\u001b[0m\u001b[0m\n\u001b[1;32m      7\u001b[0m \u001b[0my_train\u001b[0m \u001b[0;34m=\u001b[0m \u001b[0mdf\u001b[0m\u001b[0;34m[\u001b[0m\u001b[0mtarget\u001b[0m\u001b[0;34m]\u001b[0m\u001b[0;34m\u001b[0m\u001b[0;34m\u001b[0m\u001b[0m\n\u001b[0;32m----> 8\u001b[0;31m \u001b[0mprint\u001b[0m\u001b[0;34m(\u001b[0m\u001b[0;34m\"shape of y_train\"\u001b[0m\u001b[0;34m,\u001b[0m \u001b[0m_train\u001b[0m\u001b[0;34m.\u001b[0m\u001b[0mshape\u001b[0m\u001b[0;34m)\u001b[0m\u001b[0;34m\u001b[0m\u001b[0;34m\u001b[0m\u001b[0m\n\u001b[0m",
            "\u001b[0;31mNameError\u001b[0m: name '_train' is not defined"
          ]
        }
      ]
    },
    {
      "cell_type": "code",
      "source": [
        "#Building the linear model\n",
        "\"\"\"Three parts in building a model:\n",
        "- Baseline\n",
        "- Iterate\n",
        "- Evaluate\n",
        "\n",
        "1st thing for baseline is to understand whethere it is a regression or a classification problem\n",
        " create a naive model\n",
        "\"\"\""
      ],
      "metadata": {
        "colab": {
          "base_uri": "https://localhost:8080/",
          "height": 35
        },
        "id": "f1ry1lCrqJ6S",
        "outputId": "f1b01325-0ea8-45c9-e3f8-6e6fd577e351"
      },
      "execution_count": null,
      "outputs": [
        {
          "output_type": "execute_result",
          "data": {
            "text/plain": [
              "'Three parts in building a model:\\n- Baseline\\n- Iterate\\n- Evaluate\\n\\n1st thing for baseline is to understand whethere it is a regression or a classification problem\\n create a naive model\\n'"
            ],
            "application/vnd.google.colaboratory.intrinsic+json": {
              "type": "string"
            }
          },
          "metadata": {},
          "execution_count": 111
        }
      ]
    },
    {
      "cell_type": "code",
      "source": [
        "y_mean = y_train.mean()\n",
        "y_pred_baseline = [y_mean] * len(y_train)\n",
        "\n",
        "y_pred_baseline[:5]"
      ],
      "metadata": {
        "colab": {
          "base_uri": "https://localhost:8080/"
        },
        "id": "KSKV0RxnrAEJ",
        "outputId": "d5b12e31-0a33-410a-839c-7536a240daaf"
      },
      "execution_count": null,
      "outputs": [
        {
          "output_type": "execute_result",
          "data": {
            "text/plain": [
              "[np.float64(128710.35965141612),\n",
              " np.float64(128710.35965141612),\n",
              " np.float64(128710.35965141612),\n",
              " np.float64(128710.35965141612),\n",
              " np.float64(128710.35965141612)]"
            ]
          },
          "metadata": {},
          "execution_count": 112
        }
      ]
    },
    {
      "cell_type": "code",
      "source": [
        "#checking the fit of the mean of\n",
        "plt.plot(\n",
        "    X_train,\n",
        "    y_pred_baseline,\n",
        "    color = \"red\",\n",
        "    label = \"baseline model\"\n",
        ")\n",
        "plt.scatter(\n",
        "    x = X_train,\n",
        "    y = y_train\n",
        ")\n",
        "plt.xlabel = \"Surface area in sq meters\"\n",
        "plt.ylabel = \"Price in US Dollars\"\n",
        "plt.title = \"Price Vs Home Sizes\";"
      ],
      "metadata": {
        "colab": {
          "base_uri": "https://localhost:8080/",
          "height": 430
        },
        "id": "0B3dwJDTrWWw",
        "outputId": "09642280-304e-428a-908b-65c236c127a7"
      },
      "execution_count": null,
      "outputs": [
        {
          "output_type": "display_data",
          "data": {
            "text/plain": [
              "<Figure size 640x480 with 1 Axes>"
            ],
            "image/png": "[encoded data removed]"
          },
          "metadata": {}
        }
      ]
    },
    {
      "cell_type": "code",
      "source": [
        "#performance metrics\n",
        "mae_baseline = mean_absolute_error(y_train,y_pred_baseline)\n",
        "print(\"Mean Apt price\", round(y_mean,2))\n",
        "print(\"Baseline MAE\", round(mae_baseline,2))\n"
      ],
      "metadata": {
        "colab": {
          "base_uri": "https://localhost:8080/"
        },
        "id": "gOG3ctzgtqRh",
        "outputId": "e5324974-eb4b-40b6-bd31-938ffe55737b"
      },
      "execution_count": null,
      "outputs": [
        {
          "output_type": "stream",
          "name": "stdout",
          "text": [
            "Mean Apt price 128710.36\n",
            "Baseline MAE 35638.97\n"
          ]
        }
      ]
    },
    {
      "cell_type": "code",
      "source": [
        "#ITERATE"
      ],
      "metadata": {
        "id": "Ghe__G74zFiJ"
      },
      "execution_count": null,
      "outputs": []
    },
    {
      "cell_type": "code",
      "source": [
        "#instantiate a model\n",
        "model = LinearRegression()\n",
        "\n",
        "#training the model\n",
        "model.fit(X_train,y_train)\n",
        "check_is_fitted(model)"
      ],
      "metadata": {
        "id": "Fov7KgA2zVYS"
      },
      "execution_count": null,
      "outputs": []
    },
    {
      "cell_type": "code",
      "source": [
        "#making predictions\n",
        "y_pred_train = model.predict(X_train)\n",
        "print(y_pred_train[:5])\n",
        "y_pred_train.shape"
      ],
      "metadata": {
        "colab": {
          "base_uri": "https://localhost:8080/"
        },
        "id": "oQcJakIGzn2i",
        "outputId": "1e1704e4-542d-45bd-9f55-3a117160bb4a"
      },
      "execution_count": null,
      "outputs": [
        {
          "output_type": "stream",
          "name": "stdout",
          "text": [
            "[167252.52968279 106008.22092374 132255.78182047 106008.22092374\n",
            " 123506.5948549 ]\n"
          ]
        },
        {
          "output_type": "execute_result",
          "data": {
            "text/plain": [
              "(918,)"
            ]
          },
          "metadata": {},
          "execution_count": 117
        }
      ]
    },
    {
      "cell_type": "code",
      "source": [
        "#EVALUATE\n",
        "\n",
        "mae_training = mean_absolute_error(y_train, y_pred_train)\n",
        "mae_training"
      ],
      "metadata": {
        "colab": {
          "base_uri": "https://localhost:8080/"
        },
        "id": "cc8dg7180eZC",
        "outputId": "e857496c-3119-4160-d634-42eb1674c666"
      },
      "execution_count": null,
      "outputs": [
        {
          "output_type": "execute_result",
          "data": {
            "text/plain": [
              "29820.705253766617"
            ]
          },
          "metadata": {},
          "execution_count": 118
        }
      ]
    },
    {
      "cell_type": "code",
      "source": [
        "#intercept\n",
        "intercept = round(model.intercept_,2)\n",
        "print(\"intercept of model\", round(intercept,2))\n",
        "\n",
        "#coefficient\n",
        "coeff = round(model.coef_[0],2)\n",
        "print(\"Coefficient of model\",round(coeff,2))\n",
        "\n",
        "print(f\"apt_price = {intercept} + {coeff} * surface in sq meter\")"
      ],
      "metadata": {
        "colab": {
          "base_uri": "https://localhost:8080/"
        },
        "id": "xyzZafqw08hC",
        "outputId": "e737d8e4-dc70-4fe1-c84b-1e76e3e82a5f"
      },
      "execution_count": null,
      "outputs": [
        {
          "output_type": "stream",
          "name": "stdout",
          "text": [
            "intercept of model 14141.76\n",
            "Coefficient of model 2187.3\n",
            "apt_price = 14141.76 + 2187.3 * surface in sq meter\n"
          ]
        }
      ]
    },
    {
      "cell_type": "markdown",
      "source": [
        "# **Apt_price = 11433.31 + 2253.12 * surface in sq meter**"
      ],
      "metadata": {
        "id": "_-oHE_Km3E_X"
      }
    },
    {
      "cell_type": "code",
      "source": [
        "plt.plot(\n",
        "    X_train,model.predict(X_train),\n",
        "    color = \"red\",\n",
        "    label = \"Linear regression best fit line\"\n",
        ")\n",
        "plt.scatter(X_train, y_train)\n",
        "plt.legend();"
      ],
      "metadata": {
        "colab": {
          "base_uri": "https://localhost:8080/",
          "height": 430
        },
        "id": "_kU2te6B3Msy",
        "outputId": "cc4049c6-a656-4a8d-b1ec-fe07d3add7dc"
      },
      "execution_count": null,
      "outputs": [
        {
          "output_type": "display_data",
          "data": {
            "text/plain": [
              "<Figure size 640x480 with 1 Axes>"
            ],
            "image/png": "[encoded data removed]"
          },
          "metadata": {}
        }
      ]
    },
    {
      "cell_type": "code",
      "source": [],
      "metadata": {
        "id": "6pTtk6fa36hj"
      },
      "execution_count": null,
      "outputs": []
    }
  ]
}